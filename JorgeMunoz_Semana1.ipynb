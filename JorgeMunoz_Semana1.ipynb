{
 "cells": [
  {
   "cell_type": "markdown",
   "id": "aad8fc47",
   "metadata": {},
   "source": [
    "# Semana 1 Entregables"
   ]
  },
  {
   "cell_type": "markdown",
   "id": "879f7fd5",
   "metadata": {},
   "source": [
    "# Imports"
   ]
  },
  {
   "cell_type": "raw",
   "id": "9e659e48",
   "metadata": {},
   "source": [
    "Incae Business School\n",
    "Maestria Business Analytics\n",
    "Curso Programming for Managers\n",
    "Creado por Jorge Luis Muñoz Alcazar\n"
   ]
  },
  {
   "cell_type": "code",
   "execution_count": 7,
   "id": "8ecc6efe",
   "metadata": {},
   "outputs": [],
   "source": [
    "from datetime import datetime\n",
    "import math\n",
    "import sys\n",
    "from fractions import Fraction"
   ]
  },
  {
   "cell_type": "markdown",
   "id": "89803d79",
   "metadata": {},
   "source": [
    "# Ejercicios"
   ]
  },
  {
   "cell_type": "markdown",
   "id": "f765ea9a",
   "metadata": {},
   "source": [
    "## Ejercicio #1-Desarrolle una función para cada una de las siguientes sumatorias:"
   ]
  },
  {
   "cell_type": "code",
   "execution_count": 8,
   "id": "2910506a",
   "metadata": {},
   "outputs": [
    {
     "name": "stdout",
     "output_type": "stream",
     "text": [
      "El resultado es: 204\n"
     ]
    }
   ],
   "source": [
    "#suma de cuadrados\n",
    "def funcion1(inicio,final):\n",
    "    i=inicio\n",
    "    res=0\n",
    "    while i <= final:\n",
    "        res=res+pow(i,2)\n",
    "        i += 1\n",
    "    return res\n",
    "\n",
    "print('El resultado es:',funcion1(1,8))\n",
    "\n",
    "\n"
   ]
  },
  {
   "cell_type": "code",
   "execution_count": 9,
   "id": "e92bb897",
   "metadata": {},
   "outputs": [],
   "source": [
    "#Suma de fracciones\n",
    "def funcion2(inicio,final):\n",
    "    numerador=inicio \n",
    "    denominador=inicio+1 \n",
    "    i=inicio\n",
    "    res=0\n",
    "    while i<= final:\n",
    "        res=res+(numerador/denominador)\n",
    "        numerador=numerador+1\n",
    "        denominador=numerador+1\n",
    "        i=i+1\n",
    "    return res"
   ]
  },
  {
   "cell_type": "code",
   "execution_count": 10,
   "id": "bd384a21",
   "metadata": {},
   "outputs": [
    {
     "name": "stdout",
     "output_type": "stream",
     "text": [
      "El resultado final en formato decimal es:17.354641295237272\n",
      "El resultado final en fraccion es:2464307/141997\n"
     ]
    }
   ],
   "source": [
    "s=str(funcion2(1,20))\n",
    "z=Fraction(s).limit_denominator()\n",
    "print(f\"El resultado final en formato decimal es:{s}\")\n",
    "print(f\"El resultado final en fraccion es:{z}\")\n",
    "\n"
   ]
  },
  {
   "cell_type": "code",
   "execution_count": 11,
   "id": "9660f302",
   "metadata": {},
   "outputs": [],
   "source": [
    "#Multiplos de 3\n",
    "def funcion3(final):\n",
    "    aux=0\n",
    "    res=0\n",
    "    i=1\n",
    "    while i<= final:\n",
    "        aux=aux+3\n",
    "        res=res+aux\n",
    "        i=i+1\n",
    "    return res"
   ]
  },
  {
   "cell_type": "code",
   "execution_count": 12,
   "id": "88ab07a8",
   "metadata": {},
   "outputs": [
    {
     "name": "stdout",
     "output_type": "stream",
     "text": [
      "El resultado es: 108\n"
     ]
    }
   ],
   "source": [
    "print('El resultado es:',funcion3(8))"
   ]
  },
  {
   "cell_type": "markdown",
   "id": "9ec32212",
   "metadata": {},
   "source": [
    "## Ejercicio 2-Utilice while para desarrollar una función llamada creciente() que despliegue lo siguiente:\n",
    "\n",
    "*\n",
    "\n",
    "**"
   ]
  },
  {
   "cell_type": "code",
   "execution_count": 13,
   "id": "b3145eff",
   "metadata": {},
   "outputs": [],
   "source": [
    "def creciente(inicio,final):\n",
    "    i=inicio\n",
    "    letra=\"*\"\n",
    "    while i<= final:\n",
    "        print('\\n'+letra*i)\n",
    "        i=i+1\n",
    "    return print('\\n'+letra*i)"
   ]
  },
  {
   "cell_type": "code",
   "execution_count": 14,
   "id": "3ff7015e",
   "metadata": {},
   "outputs": [
    {
     "name": "stdout",
     "output_type": "stream",
     "text": [
      "\n",
      "*\n",
      "\n",
      "**\n",
      "\n",
      "***\n",
      "\n",
      "****\n",
      "\n",
      "*****\n",
      "\n",
      "******\n",
      "\n",
      "*******\n",
      "\n",
      "********\n",
      "\n",
      "*********\n",
      "\n",
      "**********\n",
      "\n",
      "***********\n",
      "\n",
      "************\n",
      "\n",
      "*************\n",
      "\n",
      "**************\n",
      "\n",
      "***************\n",
      "\n",
      "****************\n"
     ]
    }
   ],
   "source": [
    "creciente(1,15)"
   ]
  },
  {
   "cell_type": "markdown",
   "id": "e8eef6dc",
   "metadata": {},
   "source": [
    "## Ejercicio 3-Escriba una función que se llame Convertidor(tipoDeConversion, montoAConvertir, tipoDeCambio), la cual convertirá de dólares a moneda local o de moneda local a dólares según lo indique la variable tipoDeConversion.  Si tipoDeConversion es ”DL”, se asumirá que el monto a convertir está en dólares, y se deberá pasar a moneda local. Si tipoDeConversion es  “LD” se asumirá que el monto a convertir está en moneda local, y se deberá pasar a dólares. Elija usted el tipo de cambio correspondiente a la moneda de su país (aquellos de Panamá y El Salvador pueden usar el tipo de cambio de cualquier otro país, siempre y cuando así lo documenten).\n",
    "\n",
    "La función Convertidor deberá tener 3 parámentros: \n",
    "\n",
    "tipoDeConversion: es un string que sólo puede ser ”DL” o “LD”\n",
    "\n",
    "montoAConvertir: es un valor numérico\n",
    "\n",
    "tipoDeCambio: es un valor numérico\n",
    "\n",
    " \n",
    "\n",
    "La función Convertidor deberá invocarse de la siguiente manera:\n",
    "\n",
    "Convertidor(tipoDeConversion, montoAConvertir, tipoDeCambio)"
   ]
  },
  {
   "cell_type": "code",
   "execution_count": 15,
   "id": "121c85db",
   "metadata": {},
   "outputs": [],
   "source": [
    "def Convertidor(tipoDeConversion, montoAConvertir, tipoDeCambio):\n",
    "    res=0\n",
    "    if (tipoDeConversion not in ['LD','DL']):\n",
    "        print(\"Tipo Conversion no valida\")\n",
    "        res=-1\n",
    "    if tipoDeConversion=='LD':\n",
    "        res=montoAConvertir/tipoDeCambio\n",
    "    if tipoDeConversion=='DL':\n",
    "        res=montoAConvertir*tipoDeCambio\n",
    "    return res"
   ]
  },
  {
   "cell_type": "code",
   "execution_count": 16,
   "id": "b4d8a231",
   "metadata": {},
   "outputs": [
    {
     "name": "stdout",
     "output_type": "stream",
     "text": [
      "Conversion de 545000 CRC a USD es:$1000.0\n"
     ]
    }
   ],
   "source": [
    "MontoColones=545000\n",
    "TipoCambio=545\n",
    "try:\n",
    "    s=Convertidor('LD',MontoColones,TipoCambio)\n",
    "    print(f\"Conversion de {MontoColones} CRC a USD es:${s}\")\n",
    "except:\n",
    "    print(\"Una de las entradas numericas no es válida\")"
   ]
  },
  {
   "cell_type": "code",
   "execution_count": 17,
   "id": "280384ef",
   "metadata": {},
   "outputs": [
    {
     "name": "stdout",
     "output_type": "stream",
     "text": [
      "Conversion de 1200 USD a CRC es:Ȼ654000\n"
     ]
    }
   ],
   "source": [
    "MontoDolares=1200\n",
    "TipoCambio=545\n",
    "try:\n",
    "    s=Convertidor('DL',1200,545)\n",
    "    print(f\"Conversion de {MontoDolares} USD a CRC es:Ȼ{s}\")\n",
    "except:\n",
    "    print(\"Una de las entradas numericas no es válida\")"
   ]
  },
  {
   "cell_type": "markdown",
   "id": "e64d8004",
   "metadata": {},
   "source": [
    "## Ejercicio 4-Desarrolle una función llamada Primo(x), que retorne True en caso de que x sea primo, retorne False en caso contrario."
   ]
  },
  {
   "cell_type": "code",
   "execution_count": 18,
   "id": "1527ee59",
   "metadata": {},
   "outputs": [],
   "source": [
    "def Primo(num):\n",
    "    inicio=2 #inicio en 2 ya que 1 no cuenta como divisor\n",
    "    final=num-1 #me detengo en el numero indicado -1(ya que el se divide a si mismo)\n",
    "    res=True #por defecto el resultado sera True a menos que se encuentre un divisor \n",
    "    i=inicio\n",
    "    while i<= final:\n",
    "        if (num % i==0):\n",
    "            res=False\n",
    "            break   \n",
    "        else:\n",
    "            i=i+1\n",
    "    return res"
   ]
  },
  {
   "cell_type": "code",
   "execution_count": 19,
   "id": "ae9e3b03",
   "metadata": {},
   "outputs": [
    {
     "name": "stdout",
     "output_type": "stream",
     "text": [
      "El numero 8 NO es primo\n"
     ]
    }
   ],
   "source": [
    "numero=8\n",
    "s=Primo(numero)\n",
    "if s==True:\n",
    "    print(f\"El numero {numero} es primo\")\n",
    "else:\n",
    "    print(f\"El numero {numero} NO es primo\")"
   ]
  },
  {
   "cell_type": "code",
   "execution_count": 20,
   "id": "e0130bb8",
   "metadata": {},
   "outputs": [
    {
     "name": "stdout",
     "output_type": "stream",
     "text": [
      "El numero 113 es primo\n"
     ]
    }
   ],
   "source": [
    "numero=113\n",
    "s=Primo(numero)\n",
    "if s==True:\n",
    "    print(f\"El numero {numero} es primo\")\n",
    "else:\n",
    "    print(f\"El numero {numero} NO es primo\")"
   ]
  },
  {
   "cell_type": "markdown",
   "id": "eb2e803d",
   "metadata": {},
   "source": [
    "## Ejercicio 5-Reescriba su programa de horas trabajadas…\n",
    "\n",
    "“1.3.3 Escriba un programa que pida al usuario el número de horas trabajadas. El programa en retorno, deberá indicar cuánto deberá pagársele. La hora se pagará a 10 dólares si el número de horas es menor o igual que 15; se pagará a 12 dólares si el número de horas es mayor que 15 pero menor o igual que 30; y se pagará a 14 dólares si el número de horas es mayor que 30.”\n",
    "\n",
    " \n",
    "\n",
    "…Incorporando lo siguiente:\n",
    "\n",
    "Deberá encapsular el código en una función llamada horasTrabajadas2( ).\n",
    "\n",
    "Deberá ser capaz de capturar errores de usuario, manejando excepciones a la hora de ingresar los datos."
   ]
  },
  {
   "cell_type": "code",
   "execution_count": 21,
   "id": "804dc949",
   "metadata": {},
   "outputs": [],
   "source": [
    "def horasTrabajadas2(horas):\n",
    "    res=0\n",
    "    if (horas<=15):\n",
    "        res=horas*10\n",
    "    if (horas>15 and horas<=30):\n",
    "        res=horas*12\n",
    "    if (horas>30):\n",
    "        res=horas*14\n",
    "    return res"
   ]
  },
  {
   "cell_type": "code",
   "execution_count": 22,
   "id": "8632bfa4",
   "metadata": {},
   "outputs": [
    {
     "name": "stdout",
     "output_type": "stream",
     "text": [
      "Por favor ingrese el numero de horas laboradas: 8\n",
      "8.0 Horas Laboradas corresponden a $80.0 de salario\n"
     ]
    }
   ],
   "source": [
    "while True:\n",
    "    try:\n",
    "        n = input(\"Por favor ingrese el numero de horas laboradas: \")\n",
    "        horas = float(n)\n",
    "        if (horas<0):\n",
    "            print(\"Ingrese un valor mayor que 0\")\n",
    "            break\n",
    "        s=(horasTrabajadas2(horas))\n",
    "        print(f\"{horas} Horas Laboradas corresponden a ${s} de salario\")\n",
    "        break\n",
    "    except ValueError:\n",
    "        print(\"El valor no es un numero válido\")"
   ]
  },
  {
   "cell_type": "code",
   "execution_count": 23,
   "id": "086d6f8c",
   "metadata": {},
   "outputs": [
    {
     "name": "stdout",
     "output_type": "stream",
     "text": [
      "Por favor ingrese el numero de horas laboradas: 20\n",
      "20.0 Horas Laboradas corresponden a $240.0 de salario\n"
     ]
    }
   ],
   "source": [
    "while True:\n",
    "    try:\n",
    "        n = input(\"Por favor ingrese el numero de horas laboradas: \")\n",
    "        horas = float(n)\n",
    "        if (horas<0):\n",
    "            print(\"Ingrese un valor mayor que 0\")\n",
    "            break\n",
    "        s=(horasTrabajadas2(horas))\n",
    "        print(f\"{horas} Horas Laboradas corresponden a ${s} de salario\")\n",
    "        break\n",
    "    except ValueError:\n",
    "        print(\"El valor no es un numero válido\")"
   ]
  },
  {
   "cell_type": "code",
   "execution_count": 24,
   "id": "e036e17a",
   "metadata": {},
   "outputs": [
    {
     "name": "stdout",
     "output_type": "stream",
     "text": [
      "Por favor ingrese el numero de horas laboradas: 40\n",
      "40.0 Horas Laboradas corresponden a $560.0 de salario\n"
     ]
    }
   ],
   "source": [
    "while True:\n",
    "    try:\n",
    "        n = input(\"Por favor ingrese el numero de horas laboradas: \")\n",
    "        horas = float(n)\n",
    "        if (horas<0):\n",
    "            print(\"Ingrese un valor mayor que 0\")\n",
    "            break\n",
    "        s=(horasTrabajadas2(horas))\n",
    "        print(f\"{horas} Horas Laboradas corresponden a ${s} de salario\")\n",
    "        break\n",
    "    except ValueError:\n",
    "        print(\"El valor no es un numero válido\")"
   ]
  },
  {
   "cell_type": "code",
   "execution_count": 26,
   "id": "4204b422",
   "metadata": {},
   "outputs": [
    {
     "name": "stdout",
     "output_type": "stream",
     "text": [
      "Final del entregable,ultima Ejecucion: 2023-07-27 21:42:22.136994\n"
     ]
    }
   ],
   "source": [
    "print(\"Final del entregable,ultima Ejecucion:\",datetime.now())\n"
   ]
  }
 ],
 "metadata": {
  "kernelspec": {
   "display_name": "Python 3",
   "language": "python",
   "name": "python3"
  },
  "language_info": {
   "codemirror_mode": {
    "name": "ipython",
    "version": 3
   },
   "file_extension": ".py",
   "mimetype": "text/x-python",
   "name": "python",
   "nbconvert_exporter": "python",
   "pygments_lexer": "ipython3",
   "version": "3.7.10"
  }
 },
 "nbformat": 4,
 "nbformat_minor": 5
}
