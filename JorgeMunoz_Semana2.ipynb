{
 "cells": [
  {
   "cell_type": "markdown",
   "id": "38cd43b3",
   "metadata": {},
   "source": [
    "## Imports"
   ]
  },
  {
   "cell_type": "code",
   "execution_count": 1,
   "id": "43f9c72d",
   "metadata": {},
   "outputs": [],
   "source": [
    "##Biblioteca para ambos ejercicios\n",
    "import random\n",
    "import matplotlib.pyplot as plt\n",
    "import os\n",
    "import sys\n",
    "from tabulate import tabulate\n",
    "from IPython.display import clear_output    "
   ]
  },
  {
   "cell_type": "markdown",
   "id": "4e74a49c",
   "metadata": {},
   "source": [
    "# Ejercicio #1"
   ]
  },
  {
   "cell_type": "raw",
   "id": "6e0aadb9",
   "metadata": {},
   "source": [
    "1. El estudiante deberá programar y graficar en Python la siguiente simulación:\n",
    "\n",
    "Supongamos que creamos una lista de 100 elementos, todos iniciados en 0.\n",
    "Supongamos que tenemos un dado con valores entre 0 y 99 y que queremos lanzar ese dado muchas veces.\n",
    "Supongamos que queremos contar cuántas veces nos sale cada número. Así, cuando nos salga, por ejemplo, el número 25, al elemento que se encuentra en la posición 25 de la lista le sumaremos 1.\n",
    "Supongamos que queremos repetir el ejercicio de lanzar el dado 10000 veces, y que luego queremos graficar en un histograma la lista con la cantidad de repeticiones que cada uno de los 100 elementos obtuvo."
   ]
  },
  {
   "cell_type": "markdown",
   "id": "bc25b174",
   "metadata": {},
   "source": [
    "## Declare"
   ]
  },
  {
   "cell_type": "code",
   "execution_count": 2,
   "id": "50014ad4",
   "metadata": {},
   "outputs": [],
   "source": [
    "##Constantes\n",
    "registros=100  #Numero de registros\n",
    "iteraciones= 10000 #Numero total iteraciones,lanzamientos de dado\n",
    "\n",
    "#Variables\n",
    "lista = []    #Definicion de la lista\n",
    "i=0  #variable para recorrer loops\n",
    "index=0  #indice de la lista\n",
    "all_indexes=[] #lista de indices"
   ]
  },
  {
   "cell_type": "code",
   "execution_count": 3,
   "id": "731eff85",
   "metadata": {},
   "outputs": [],
   "source": [
    "#Inicializar valores en 0\n",
    "for x in range(registros):\n",
    "    lista.append(0)"
   ]
  },
  {
   "cell_type": "code",
   "execution_count": 4,
   "id": "95fc21f8",
   "metadata": {},
   "outputs": [],
   "source": [
    "while i<=iteraciones:\n",
    "    index=random.randint(0, 99)\n",
    "    lista[index]=lista[index]+1\n",
    "    i=i+1\n"
   ]
  },
  {
   "cell_type": "markdown",
   "id": "b74258a0",
   "metadata": {},
   "source": [
    "## Visualizacion"
   ]
  },
  {
   "cell_type": "code",
   "execution_count": 5,
   "id": "e52d0582",
   "metadata": {},
   "outputs": [
    {
     "name": "stdout",
     "output_type": "stream",
     "text": [
      "[125, 106, 93, 98, 111, 92, 111, 83, 101, 100, 76, 82, 110, 110, 112, 100, 98, 100, 101, 112, 92, 109, 83, 105, 101, 112, 85, 91, 101, 97, 109, 99, 91, 86, 115, 95, 103, 108, 100, 92, 95, 84, 96, 99, 101, 104, 91, 94, 113, 93, 92, 91, 91, 106, 92, 99, 97, 94, 98, 113, 124, 95, 107, 98, 99, 111, 94, 90, 113, 101, 101, 108, 103, 98, 97, 87, 111, 96, 114, 108, 117, 90, 107, 99, 99, 96, 93, 102, 103, 106, 106, 101, 107, 97, 99, 95, 95, 117, 88, 91]\n"
     ]
    }
   ],
   "source": [
    "print(lista)"
   ]
  },
  {
   "cell_type": "code",
   "execution_count": 6,
   "id": "0576e32b",
   "metadata": {},
   "outputs": [],
   "source": [
    "#Obtener lista de indices para eje x\n",
    "all_indexes = [a for a in range(len(lista))]"
   ]
  },
  {
   "cell_type": "code",
   "execution_count": 7,
   "id": "2d990379",
   "metadata": {},
   "outputs": [
    {
     "data": {
      "image/png": "[encoded data removed]",
      "text/plain": [
       "<Figure size 720x360 with 1 Axes>"
      ]
     },
     "metadata": {
      "needs_background": "light"
     },
     "output_type": "display_data"
    }
   ],
   "source": [
    "indices = list(all_indexes)\n",
    "valores = list(lista)\n",
    "  \n",
    "fig = plt.figure(figsize = (10, 5))\n",
    " \n",
    "# Creando el grafico\n",
    "plt.bar(indices, valores, color ='blue',\n",
    "        width = 0.4)\n",
    " \n",
    "plt.xlabel(\"Indices de la lista\")\n",
    "plt.ylabel(\"Frecuencia de apariciones\")\n",
    "plt.title(\"Lanzamientos de dado\")\n",
    "plt.show()"
   ]
  },
  {
   "cell_type": "markdown",
   "id": "bbbeecec",
   "metadata": {},
   "source": [
    "# Ejercicio #2"
   ]
  },
  {
   "cell_type": "markdown",
   "id": "3fa9f0e5",
   "metadata": {},
   "source": [
    "2. Gestión de una lista de compras\n",
    "\n",
    "Crea un programa que se llama GestionCompras( ) para gestionar una lista de compras. El programa debe permitir al usuario:\n",
    "\n",
    "(1)Agregar elementos a la lista de compras.\n",
    "\n",
    "(2)Mostrar la lista de compras completa.\n",
    "\n",
    "(3)Eliminar elementos de la lista de compras.\n",
    "\n",
    "(4)Verificar si un artículo específico está en la lista de compras.\n",
    "\n",
    "(5)Calcular el total de la compra sumando los precios de los artículos.\n",
    "\n",
    "(6)Salir del programa de compras (es decir terminar la ejecución del programa)\n",
    "\n",
    "En cada iteración, el programa debe mostrar el menú anterior. El programa debe preguntar al usuario qué acción desea ejecutar. El usuario indicará qué acción quiere ejecutar mediante el número asociado. Por ejemplo, si ingresa un 1, quiere decir que la acción a ejecutar es la de Agregar elementos a la lista.\n",
    "\n",
    "Para cada acción, se debe preparar el código y funcionalidad asociada. \n",
    "\n",
    "El programa deberá repetirse hasta el que usuario ingrese un 6, es decir, la opción de salir y terminar el programa."
   ]
  },
  {
   "cell_type": "markdown",
   "id": "c8401899",
   "metadata": {},
   "source": [
    "## Declare"
   ]
  },
  {
   "cell_type": "code",
   "execution_count": 8,
   "id": "1ed72ffa",
   "metadata": {},
   "outputs": [],
   "source": [
    "#Variables\n",
    "global articulos      \n",
    "global carrito       \n",
    "global factura    \n",
    "global codigo      \n",
    "global producto       \n",
    "global precio        \n",
    "global unidades\n",
    "global subtotal       \n",
    "global total         \n",
    "global codigo_busqueda\n",
    "global index           "
   ]
  },
  {
   "cell_type": "code",
   "execution_count": 9,
   "id": "f1436771",
   "metadata": {},
   "outputs": [],
   "source": [
    "##Inicializacion de variables\n",
    "articulos=[]       #Lista de articulos\n",
    "carrito=[]         #Carrito de compras\n",
    "factura=[]         #Factura\n",
    "codigo=\"\"          #Codigo del producto\n",
    "producto=\"\"\n",
    "precio=0.0         #nombre del producto\n",
    "unidades=0\n",
    "subtotal=0         #Precio por linea de producto\n",
    "total=0            #total de la factura\n",
    "codigo_busqueda=\"\" #Codigo producto a buscar\n",
    "index=0            #indice de la lista \n",
    "\n",
    "##Inicializacion de lista,insercion de algunos articulos.No se requiere en el ejercicio pero es para facilitar el debug del mismo\n",
    "#Se definen campos como codigo,producto,precio,unidades\n",
    "articulos.append(['A001','Collares Perro',12,100])\n",
    "articulos.append(['A002','Comida para perro',25,150])\n",
    "articulos.append(['A003','Comida para gato',18,35])\n",
    "articulos.append(['A004','Vacuna pulgas',3.5,25])\n",
    "articulos.append(['A005','Gasas',0.5,100])"
   ]
  },
  {
   "cell_type": "markdown",
   "id": "591a8d26",
   "metadata": {},
   "source": [
    "## Codigo"
   ]
  },
  {
   "cell_type": "markdown",
   "id": "af0c26a7",
   "metadata": {},
   "source": [
    "### Modulo Menu"
   ]
  },
  {
   "cell_type": "code",
   "execution_count": 10,
   "id": "1c412a95",
   "metadata": {},
   "outputs": [],
   "source": [
    "def menu():\n",
    "    try:\n",
    "        opcion=True\n",
    "        while opcion:\n",
    "            print (\"\"\"\n",
    "            1.Agregar articulos\n",
    "            2.Imprimir listado articulos\n",
    "            3.Eliminar articulo\n",
    "            4.Buscar articulo\n",
    "            5.Total Compras\n",
    "            6.Salir\n",
    "            \"\"\")\n",
    "            opcion=int(input(\"Seleccione una opcion del menu \"))\n",
    "            \n",
    "            if opcion==1: \n",
    "                print(\"\\n Modulo Agregar articulos\") \n",
    "                \n",
    "                #####Input de variables####\n",
    "                try:\n",
    "                    codigo=input(\"Digite el codigo del producto-formato ejemplo A00x: \")\n",
    "                    producto=input(\"Digite el nombre del producto: \")\n",
    "                    precio=float(input(\"Digite el precio del producto: \"))\n",
    "                    unidades=int(input(\"Digite el numero de unidades disponibles: \"))\n",
    "                except ValueError as val:\n",
    "                    print(f\"Revise el ingreso de datos {val}\")\n",
    "                    menu()\n",
    "                #####Input de variables####\n",
    "                \n",
    "               #llamado de la funcion\n",
    "                out=fn_agregar(articulos,codigo,producto,precio,unidades)\n",
    "                \n",
    "                if out==True:\n",
    "                    print(\"\\n Producto agregado exitosamente\")\n",
    "                else:\n",
    "                    print(\"Error durante el proceso\")\n",
    "                opcion=False\n",
    "                menu()\n",
    "                \n",
    "            elif opcion==2:\n",
    "                print(\"\\n Listado de articulos disponibles\")\n",
    "                \n",
    "                #llamado de la funcion\n",
    "                out=(fn_imprimir(articulos))\n",
    "                \n",
    "                if out==False:\n",
    "                    print(\"Error\")\n",
    "                opcion=False\n",
    "                menu()\n",
    "            elif opcion==3:\n",
    "                print(\"\\n Eliminar articulo\") \n",
    "                \n",
    "                #####Obtener indice del codigo a eliminar####\n",
    "                try:\n",
    "                    codigo_busqueda=str(input(\"\\n Digite el codigo del producto que desea eliminar: \"))\n",
    "                    busqueda = next((i for i, (codigo,producto,precio,unidades) in enumerate(articulos) if codigo == codigo_busqueda), None)\n",
    "                except ValueError as val:\n",
    "                    print(f\"Revise el ingreso de datos {val}\")\n",
    "                    menu()\n",
    "                #############################################\n",
    "                \n",
    "                #llamado de la funcion\n",
    "                out=fn_eliminar(articulos,busqueda)\n",
    "                \n",
    "                print(out)\n",
    "                opcion=False\n",
    "                menu()\n",
    "            elif opcion==4:\n",
    "                print(\"\\n Buscar articulo\") \n",
    "                \n",
    "                #####Obtener codigo busqueda####\n",
    "                try:\n",
    "                    codigo_busqueda=str(input(\"Digite el codigo del producto que desea buscar: \"))\n",
    "                    busqueda = next((i for i, (codigo,producto,precio,unidades) in enumerate(articulos) if codigo == codigo_busqueda), None)\n",
    "                except ValueError as val:\n",
    "                    print(f\"Revise el ingreso de datos {val}\")\n",
    "                    menu()\n",
    "                #############################################\n",
    "                \n",
    "                #llamado de la funcion\n",
    "                out=fn_buscar(articulos,busqueda)\n",
    "                \n",
    "                print(out)\n",
    "                opcion=False\n",
    "                menu()\n",
    "            elif opcion==5:\n",
    "                print(\"\\n Total Compras\") \n",
    "                \n",
    "                #llamado de la funcion\n",
    "                out=fn_facturar()\n",
    "                \n",
    "                print(tabulate(factura, headers=[\"Codigo\", \"Producto\", \"Precio\",\"Unidades\",\"Precio\"]))\n",
    "                \n",
    "                opcion=False\n",
    "                menu()\n",
    "            elif opcion==6:\n",
    "                print(\"\\n Salir\") \n",
    "                opcion=False\n",
    "            elif opcion not in [1,2,3,4,5,6]:\n",
    "                print(\"\\n Seleccione una opcion valida entre 1 y 6\") \n",
    "    except Exception as err:\n",
    "        print(f\"Unexpected {err}, {type(err)}\")\n",
    "        raise\n",
    "    return True"
   ]
  },
  {
   "cell_type": "markdown",
   "id": "5216c8dc",
   "metadata": {},
   "source": [
    "### Modulo 1 Agregar articulo"
   ]
  },
  {
   "cell_type": "code",
   "execution_count": 11,
   "id": "c7100bdd",
   "metadata": {},
   "outputs": [],
   "source": [
    "def fn_agregar(lista,codigo,producto,precio,unidades):\n",
    "    try:\n",
    "        lista.append([codigo,producto,precio,unidades])\n",
    "    except Exception as err:\n",
    "        print(f\"Unexpected {err}, {type(err)}\")\n",
    "        raise\n",
    "    return True"
   ]
  },
  {
   "cell_type": "markdown",
   "id": "704e7b80",
   "metadata": {},
   "source": [
    "### Modulo 2 Imprimir lista"
   ]
  },
  {
   "cell_type": "code",
   "execution_count": 12,
   "id": "722630e9",
   "metadata": {},
   "outputs": [],
   "source": [
    "def fn_imprimir(lista):\n",
    "    try:\n",
    "        print(tabulate(lista, headers=[\"Codigo\", \"Producto\", \"Precio\",\"Unidades\"]))\n",
    "        return True\n",
    "    except Exception as err:\n",
    "        print(f\"Unexpected {err}, {type(err)}\")\n",
    "        raise\n",
    "        return False\n",
    "    \n",
    "     "
   ]
  },
  {
   "cell_type": "markdown",
   "id": "f77c884d",
   "metadata": {},
   "source": [
    "### Modulo 3 eliminar articulo"
   ]
  },
  {
   "cell_type": "code",
   "execution_count": 13,
   "id": "0ae139e9",
   "metadata": {},
   "outputs": [],
   "source": [
    "def fn_eliminar(lista,indice):\n",
    "    try:\n",
    "        if indice==None:\n",
    "            result=\"Codigo no existe\"\n",
    "        else:\n",
    "            lista.pop(indice)\n",
    "            result=f\"Producto {indice} fue eliminado exitosamente\"\n",
    "        return result\n",
    "    except Exception as err:\n",
    "        print(f\"Unexpected {err}, {type(err)}\")\n",
    "        return False\n",
    "  \n",
    "        \n",
    "    \n",
    " \n"
   ]
  },
  {
   "cell_type": "markdown",
   "id": "c36abe98",
   "metadata": {},
   "source": [
    "### Modulo 4 buscar articulo"
   ]
  },
  {
   "cell_type": "code",
   "execution_count": 14,
   "id": "fac8d688",
   "metadata": {},
   "outputs": [],
   "source": [
    "#Para facturacion se incluye la posibilidad de que el usuario almecene productos en el carrito para su posterior facturacion\n",
    "def fn_buscar(lista,indice):\n",
    "    result=\"\"\n",
    "    try:\n",
    "        if indice==None:\n",
    "            result=\"Codigo no existe\"\n",
    "        else:\n",
    "            print(lista[indice])\n",
    "            opt=input(\"Desea agregar producto al carrito S/N: \")\n",
    "            opt=opt.upper()\n",
    "            if opt==\"S\":\n",
    "                cantidad=int(input(\"Cuantos productos desea comprar\"))\n",
    "                carrito.append([lista[indice][0],lista[indice][1],lista[indice][2],cantidad])\n",
    "                result=\"Producto agregado al carrito\"\n",
    "            else:\n",
    "                result=\"Se cancela inclusion carrito\"\n",
    "        return result\n",
    "    except Exception as err:\n",
    "        print(f\"Unexpected {err}, {type(err)}\")\n",
    "        return False"
   ]
  },
  {
   "cell_type": "markdown",
   "id": "35b5cc15",
   "metadata": {},
   "source": [
    "### Modulo 5 Totalizar compras"
   ]
  },
  {
   "cell_type": "code",
   "execution_count": 15,
   "id": "0c3c21f1",
   "metadata": {},
   "outputs": [],
   "source": [
    "def fn_facturar():\n",
    "    total=0\n",
    "    try:\n",
    "        #Calculando importe por linea de productos\n",
    "        for codigo,producto,precio,unidades in carrito:\n",
    "            subtotal=precio*unidades\n",
    "            factura.append([codigo,producto,precio,unidades,subtotal])\n",
    "        #Totalizando por linea y guardando total\n",
    "        for codigo,producto,precio,unidades,subtotal in factura:\n",
    "            total=total+subtotal\n",
    "        factura.append([\"\",\"\",\"\",\"Total\",total])\n",
    "        return True\n",
    "    except Exception as err:\n",
    "        print(f\"Unexpected {err}, {type(err)}\")\n",
    "        return False"
   ]
  },
  {
   "cell_type": "markdown",
   "id": "b5827d4a",
   "metadata": {},
   "source": [
    "### Modulo Principal"
   ]
  },
  {
   "cell_type": "code",
   "execution_count": 16,
   "id": "e745a47c",
   "metadata": {},
   "outputs": [],
   "source": [
    "def GestionCompras():\n",
    "    #clear_output(wait=)\n",
    "    menu()\n",
    "    return True"
   ]
  },
  {
   "cell_type": "code",
   "execution_count": 17,
   "id": "2acf1243",
   "metadata": {},
   "outputs": [
    {
     "name": "stdout",
     "output_type": "stream",
     "text": [
      "\n",
      "            1.Agregar articulos\n",
      "            2.Imprimir listado articulos\n",
      "            3.Eliminar articulo\n",
      "            4.Buscar articulo\n",
      "            5.Total Compras\n",
      "            6.Salir\n",
      "            \n",
      "Seleccione una opcion del menu 1\n",
      "\n",
      " Modulo Agregar articulos\n",
      "Digite el codigo del producto-formato ejemplo A00x: A006\n",
      "Digite el nombre del producto: Shampoo\n",
      "Digite el precio del producto: 5.2\n",
      "Digite el numero de unidades disponibles: 5\n",
      "\n",
      " Producto agregado exitosamente\n",
      "\n",
      "            1.Agregar articulos\n",
      "            2.Imprimir listado articulos\n",
      "            3.Eliminar articulo\n",
      "            4.Buscar articulo\n",
      "            5.Total Compras\n",
      "            6.Salir\n",
      "            \n",
      "Seleccione una opcion del menu 2\n",
      "\n",
      " Listado de articulos disponibles\n",
      "Codigo    Producto             Precio    Unidades\n",
      "--------  -----------------  --------  ----------\n",
      "A001      Collares Perro         12           100\n",
      "A002      Comida para perro      25           150\n",
      "A003      Comida para gato       18            35\n",
      "A004      Vacuna pulgas           3.5          25\n",
      "A005      Gasas                   0.5         100\n",
      "A006      Shampoo                 5.2           5\n",
      "\n",
      "            1.Agregar articulos\n",
      "            2.Imprimir listado articulos\n",
      "            3.Eliminar articulo\n",
      "            4.Buscar articulo\n",
      "            5.Total Compras\n",
      "            6.Salir\n",
      "            \n",
      "Seleccione una opcion del menu 3\n",
      "\n",
      " Eliminar articulo\n",
      "\n",
      " Digite el codigo del producto que desea eliminar: A004\n",
      "Producto 3 fue eliminado exitosamente\n",
      "\n",
      "            1.Agregar articulos\n",
      "            2.Imprimir listado articulos\n",
      "            3.Eliminar articulo\n",
      "            4.Buscar articulo\n",
      "            5.Total Compras\n",
      "            6.Salir\n",
      "            \n",
      "Seleccione una opcion del menu 4\n",
      "\n",
      " Buscar articulo\n",
      "Digite el codigo del producto que desea buscar: A001\n",
      "['A001', 'Collares Perro', 12, 100]\n",
      "Desea agregar producto al carrito S/N: S\n",
      "Cuantos productos desea comprar2\n",
      "Producto agregado al carrito\n",
      "\n",
      "            1.Agregar articulos\n",
      "            2.Imprimir listado articulos\n",
      "            3.Eliminar articulo\n",
      "            4.Buscar articulo\n",
      "            5.Total Compras\n",
      "            6.Salir\n",
      "            \n",
      "Seleccione una opcion del menu 4\n",
      "\n",
      " Buscar articulo\n",
      "Digite el codigo del producto que desea buscar: A006\n",
      "['A006', 'Shampoo', 5.2, 5]\n",
      "Desea agregar producto al carrito S/N: s\n",
      "Cuantos productos desea comprar1\n",
      "Producto agregado al carrito\n",
      "\n",
      "            1.Agregar articulos\n",
      "            2.Imprimir listado articulos\n",
      "            3.Eliminar articulo\n",
      "            4.Buscar articulo\n",
      "            5.Total Compras\n",
      "            6.Salir\n",
      "            \n",
      "Seleccione una opcion del menu 4\n",
      "\n",
      " Buscar articulo\n",
      "Digite el codigo del producto que desea buscar: A003\n",
      "['A003', 'Comida para gato', 18, 35]\n",
      "Desea agregar producto al carrito S/N: s\n",
      "Cuantos productos desea comprar3\n",
      "Producto agregado al carrito\n",
      "\n",
      "            1.Agregar articulos\n",
      "            2.Imprimir listado articulos\n",
      "            3.Eliminar articulo\n",
      "            4.Buscar articulo\n",
      "            5.Total Compras\n",
      "            6.Salir\n",
      "            \n",
      "Seleccione una opcion del menu 5\n",
      "\n",
      " Total Compras\n",
      "Codigo    Producto          Precio    Unidades      Precio\n",
      "--------  ----------------  --------  ----------  --------\n",
      "A001      Collares Perro    12        2               24\n",
      "A006      Shampoo           5.2       1                5.2\n",
      "A003      Comida para gato  18        3               54\n",
      "                                      Total           83.2\n",
      "\n",
      "            1.Agregar articulos\n",
      "            2.Imprimir listado articulos\n",
      "            3.Eliminar articulo\n",
      "            4.Buscar articulo\n",
      "            5.Total Compras\n",
      "            6.Salir\n",
      "            \n",
      "Seleccione una opcion del menu 6\n",
      "\n",
      " Salir\n"
     ]
    }
   ],
   "source": [
    "if __name__ == \"__main__\":\n",
    "    GestionCompras()"
   ]
  },
  {
   "cell_type": "code",
   "execution_count": null,
   "id": "abd5bb36",
   "metadata": {},
   "outputs": [],
   "source": []
  },
  {
   "cell_type": "code",
   "execution_count": null,
   "id": "a56b08ab",
   "metadata": {},
   "outputs": [],
   "source": []
  }
 ],
 "metadata": {
  "kernelspec": {
   "display_name": "Python 3",
   "language": "python",
   "name": "python3"
  },
  "language_info": {
   "codemirror_mode": {
    "name": "ipython",
    "version": 3
   },
   "file_extension": ".py",
   "mimetype": "text/x-python",
   "name": "python",
   "nbconvert_exporter": "python",
   "pygments_lexer": "ipython3",
   "version": "3.7.10"
  }
 },
 "nbformat": 4,
 "nbformat_minor": 5
}
