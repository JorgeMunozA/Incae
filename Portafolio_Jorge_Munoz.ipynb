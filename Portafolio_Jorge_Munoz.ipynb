{
 "cells": [
  {
   "cell_type": "markdown",
   "id": "46c0a5cb",
   "metadata": {},
   "source": [
    "# Semana 1"
   ]
  },
  {
   "cell_type": "markdown",
   "id": "44dc724b",
   "metadata": {},
   "source": [
    "1.1.1 Escriba una rutina de código que pregunte por el lugar de nacimiento del usuario y que luego muestre este nombre"
   ]
  },
  {
   "cell_type": "code",
   "execution_count": 96,
   "id": "10051dbd",
   "metadata": {},
   "outputs": [
    {
     "name": "stdout",
     "output_type": "stream",
     "text": [
      "Indique su lugar de nacimiento San Jose\n",
      "El lugar de nacimiento es:San Jose\n"
     ]
    }
   ],
   "source": [
    "lugar=str(input(\"Indique su lugar de nacimiento \"))\n",
    "print(f\"El lugar de nacimiento es:{lugar}\")"
   ]
  },
  {
   "cell_type": "markdown",
   "id": "0071484e",
   "metadata": {},
   "source": [
    "1.1.2 Escriba una rutina de código que pregunte por el nombre del  usuario y que luego pregunte por su apellido. El programa deberá mostrar el nombre y el apellido juntos en una sola frase."
   ]
  },
  {
   "cell_type": "code",
   "execution_count": 97,
   "id": "982c20cc",
   "metadata": {},
   "outputs": [
    {
     "name": "stdout",
     "output_type": "stream",
     "text": [
      "Cual es su nombre? Jorge\n",
      "Cual es su apellido? Muñoz Alcázar\n",
      "Su nombre es: Jorge Muñoz Alcázar\n"
     ]
    }
   ],
   "source": [
    "nombre=str(input(\"Cual es su nombre? \"))\n",
    "apellido=str(input(\"Cual es su apellido? \"))\n",
    "print(f\"Su nombre es: {nombre} {apellido}\")"
   ]
  },
  {
   "cell_type": "markdown",
   "id": "9808b125",
   "metadata": {},
   "source": [
    "1.1.3 Pregunte al usuario por tres números. Sume los primeros dos números y luego multiplique el total por el tercer número. Muestre la respuesta de la siguiente manera:   “La respuesta es [respuesta]”"
   ]
  },
  {
   "cell_type": "code",
   "execution_count": 3,
   "id": "02bf2367",
   "metadata": {},
   "outputs": [
    {
     "name": "stdout",
     "output_type": "stream",
     "text": [
      "Ingrese 3 numeros separados por un espacio 21 3 2\n",
      "La respuesta es: 48\n"
     ]
    }
   ],
   "source": [
    "x = list(map(int, input(\"Ingrese 3 numeros separados por un espacio \"). split()))\n",
    "s=(x[0]+x[1])*x[2]\n",
    "print(f\"La respuesta es: {s}\")"
   ]
  },
  {
   "cell_type": "markdown",
   "id": "dd146b8c",
   "metadata": {},
   "source": [
    "1.1.4 Pregunte por la cuenta del restaurante, luego pregunte cuántos comensales estaban en esa mesa. Divida el total por el número de comensales y luego muestre cuánto debe pagar cada persona."
   ]
  },
  {
   "cell_type": "code",
   "execution_count": 4,
   "id": "1b8a960c",
   "metadata": {},
   "outputs": [
    {
     "name": "stdout",
     "output_type": "stream",
     "text": [
      "Cuanto es el total a pagar: ?98451.32\n",
      "Cuantos comensales son: ?6\n",
      "El total a pagar es ¢98451.32 y se divide en 6 comensales,importe por comensal seria de ¢16408.553333333333\n"
     ]
    }
   ],
   "source": [
    "cuenta=float(input(\"Cuanto es el total a pagar: ?\"))\n",
    "comensales=int(input(\"Cuantos comensales son: ?\"))\n",
    "total=cuenta/comensales\n",
    "print(f\"El total a pagar es ¢{cuenta} y se divide en {comensales} comensales,importe por comensal seria de ¢{total}\")"
   ]
  },
  {
   "cell_type": "markdown",
   "id": "9ae3691c",
   "metadata": {},
   "source": [
    "1.1.5 Escriba un programa que pregunte por un número de días, y que luego muestre cuántas horas, minutos y segundos hay en esos días."
   ]
  },
  {
   "cell_type": "code",
   "execution_count": 5,
   "id": "33a09d52",
   "metadata": {},
   "outputs": [
    {
     "name": "stdout",
     "output_type": "stream",
     "text": [
      "Ingrese numero de dias?2\n",
      "2 dias equivalen a 172800 segundos\n",
      "2 dias equivalen a 2880 minutos\n",
      "2 dias equivalen a 48 horas\n"
     ]
    }
   ],
   "source": [
    "horas=24\n",
    "minutos=horas*60\n",
    "segundos=minutos*60\n",
    "\n",
    "dias=int(input(\"Ingrese numero de dias?\"))\n",
    "print(f\"{dias} dias equivalen a {dias*segundos} segundos\")\n",
    "print(f\"{dias} dias equivalen a {dias*minutos} minutos\")\n",
    "print(f\"{dias} dias equivalen a {dias*horas} horas\")\n"
   ]
  },
  {
   "cell_type": "markdown",
   "id": "abd160d1",
   "metadata": {},
   "source": [
    "1.1.6 Escriba un programa que pregunte por un número de horas trabajadas, que luego por la tarifa por hora, y que luego muestre cuánto se le debe pagar a esa persona."
   ]
  },
  {
   "cell_type": "code",
   "execution_count": 6,
   "id": "62daaea1",
   "metadata": {},
   "outputs": [
    {
     "name": "stdout",
     "output_type": "stream",
     "text": [
      "Ingrese horas trabajadas12\n",
      "Ingrese monto tarifa por hora8\n",
      "El monto a pagar serian $96.0\n"
     ]
    }
   ],
   "source": [
    "horas=float(input(\"Ingrese horas trabajadas\"))\n",
    "tarifa=float(input(\"Ingrese monto tarifa por hora\"))\n",
    "print(f\"El monto a pagar serian ${horas*tarifa}\")"
   ]
  },
  {
   "cell_type": "markdown",
   "id": "6c346b0b",
   "metadata": {},
   "source": [
    "1.2.1  (20 % 2 == 0)"
   ]
  },
  {
   "cell_type": "code",
   "execution_count": 7,
   "id": "952f6d91",
   "metadata": {},
   "outputs": [
    {
     "name": "stdout",
     "output_type": "stream",
     "text": [
      "El resultado de la operacion (20 % 2 == 0) es True \n"
     ]
    }
   ],
   "source": [
    "out=(20 % 2 == 0)\n",
    "print(f\"El resultado de la operacion (20 % 2 == 0) es {out} \")"
   ]
  },
  {
   "cell_type": "markdown",
   "id": "c9324c64",
   "metadata": {},
   "source": [
    "1.2.2  not (20  !=  0)"
   ]
  },
  {
   "cell_type": "code",
   "execution_count": 8,
   "id": "fc5576d5",
   "metadata": {},
   "outputs": [
    {
     "name": "stdout",
     "output_type": "stream",
     "text": [
      "El resultado de la operacion not (20  !=  0) es False \n"
     ]
    }
   ],
   "source": [
    "out=not (20  !=  0)\n",
    "print(f\"El resultado de la operacion not (20  !=  0) es {out} \")"
   ]
  },
  {
   "cell_type": "markdown",
   "id": "8eb585eb",
   "metadata": {},
   "source": [
    "1.2.3 (20 % 2 == 0     and     2 * 2  > 3)"
   ]
  },
  {
   "cell_type": "code",
   "execution_count": 9,
   "id": "5a901835",
   "metadata": {},
   "outputs": [
    {
     "name": "stdout",
     "output_type": "stream",
     "text": [
      "El resultado de la operacion not (20 % 2 == 0 and 2 * 2  > 3) es True \n"
     ]
    }
   ],
   "source": [
    "out=(20 % 2 == 0 and 2 * 2  > 3)\n",
    "print(f\"El resultado de la operacion not (20 % 2 == 0 and 2 * 2  > 3) es {out} \")"
   ]
  },
  {
   "cell_type": "markdown",
   "id": "7ef5b49a",
   "metadata": {},
   "source": [
    "1.2.4  (20 % 3 == 0  and  2 * 2  > 3)"
   ]
  },
  {
   "cell_type": "code",
   "execution_count": 10,
   "id": "7a5f188a",
   "metadata": {},
   "outputs": [
    {
     "name": "stdout",
     "output_type": "stream",
     "text": [
      "El resultado de la operacion not (20 % 3 == 0  and  2 * 2  > 3) es False \n"
     ]
    }
   ],
   "source": [
    "out=(20 % 3 == 0  and  2 * 2  > 3)\n",
    "print(f\"El resultado de la operacion not (20 % 3 == 0  and  2 * 2  > 3) es {out} \")"
   ]
  },
  {
   "cell_type": "markdown",
   "id": "c9286f52",
   "metadata": {},
   "source": [
    "1.2.5 (20 % 2 == 0  or  2 * 2  >  4)"
   ]
  },
  {
   "cell_type": "code",
   "execution_count": 11,
   "id": "9447e5a1",
   "metadata": {},
   "outputs": [
    {
     "name": "stdout",
     "output_type": "stream",
     "text": [
      "El resultado de la operacion not (20 % 2 == 0  or  2 * 2  >  4) es True \n"
     ]
    }
   ],
   "source": [
    "out=(20 % 2 == 0  or  2 * 2  >  4)\n",
    "print(f\"El resultado de la operacion not (20 % 2 == 0  or  2 * 2  >  4) es {out} \")"
   ]
  },
  {
   "cell_type": "markdown",
   "id": "4362d867",
   "metadata": {},
   "source": [
    "1.2.6  (20 % 3 == 0     or     2 * 2  >  4)"
   ]
  },
  {
   "cell_type": "code",
   "execution_count": 12,
   "id": "00d3e789",
   "metadata": {},
   "outputs": [
    {
     "name": "stdout",
     "output_type": "stream",
     "text": [
      "El resultado de la operacion not (20 % 3 == 0     or     2 * 2  >  4) es False \n"
     ]
    }
   ],
   "source": [
    "out=(20 % 3 == 0     or     2 * 2  >  4)\n",
    "print(f\"El resultado de la operacion not (20 % 3 == 0     or     2 * 2  >  4) es {out} \")"
   ]
  },
  {
   "cell_type": "markdown",
   "id": "d10bdf97",
   "metadata": {},
   "source": [
    "1.2.7   x = 4\n",
    "        valor = (20 % 3 == 0      or     2 * 2  >  x)     and    (20 % 2 == 0     and     2 * 2  >  x)\n"
   ]
  },
  {
   "cell_type": "code",
   "execution_count": 13,
   "id": "2947017d",
   "metadata": {},
   "outputs": [
    {
     "name": "stdout",
     "output_type": "stream",
     "text": [
      "El resultado de la operación lógica es  False\n"
     ]
    }
   ],
   "source": [
    "x = 4\n",
    "valor = (20 % 3 == 0      or     2 * 2  >  x)     and    (20 % 2 == 0     and     2 * 2  >  x)\n",
    "print(\"El resultado de la operación lógica es \", valor) "
   ]
  },
  {
   "cell_type": "markdown",
   "id": "bfbb6273",
   "metadata": {},
   "source": [
    "1.3.1 Escriba un programa que le pida al usuario su edad. Si el usuario tiene 18 años o más, el programa deberá mostrar: “Usted es mayor de edad”. Si el usuario tiene menos de 18 años, el programa deberá mostrar: “Usted es menor de edad”."
   ]
  },
  {
   "cell_type": "code",
   "execution_count": 14,
   "id": "6d29e36f",
   "metadata": {},
   "outputs": [
    {
     "name": "stdout",
     "output_type": "stream",
     "text": [
      "Digite su edad 35\n",
      "Usted es mayor de edad\n"
     ]
    }
   ],
   "source": [
    "edad=int(input(\"Digite su edad \"))\n",
    "if edad>=18:\n",
    "    print(\"Usted es mayor de edad\")\n",
    "else:\n",
    "    print(\"Usted es menor de edad\")\n"
   ]
  },
  {
   "cell_type": "code",
   "execution_count": 15,
   "id": "ab114e08",
   "metadata": {},
   "outputs": [
    {
     "name": "stdout",
     "output_type": "stream",
     "text": [
      "Digite su edad 17\n",
      "Usted es menor de edad\n"
     ]
    }
   ],
   "source": [
    "edad=int(input(\"Digite su edad \"))\n",
    "if edad>=18:\n",
    "    print(\"Usted es mayor de edad\")\n",
    "else:\n",
    "    print(\"Usted es menor de edad\")"
   ]
  },
  {
   "cell_type": "markdown",
   "id": "a6fadc65",
   "metadata": {},
   "source": [
    "1.3.2 Escriba un programa que le pida al usuario que introduzca un color. Si el usuario introduce “Azul” o  ”azul”, el programa deberá mostrar: “A mí me gusta el azul también”. Si el usuario introduce otro color, el programa deberá mostrar: “A mí no me gusta el [color] prefiero el azul”"
   ]
  },
  {
   "cell_type": "code",
   "execution_count": 16,
   "id": "5ed17ecb",
   "metadata": {},
   "outputs": [
    {
     "name": "stdout",
     "output_type": "stream",
     "text": [
      "Digite su color favorito rojo\n",
      "A mí no me gusta el color rojo prefiero el azul\n"
     ]
    }
   ],
   "source": [
    "color=str(input(\"Digite su color favorito \"))\n",
    "color=color.lower()\n",
    "if color==\"azul\":\n",
    "    print(\"A mí me gusta el azul también\")\n",
    "else:\n",
    "    print(f\"A mí no me gusta el color {color} prefiero el azul\")\n",
    "    "
   ]
  },
  {
   "cell_type": "code",
   "execution_count": 17,
   "id": "6a6f4216",
   "metadata": {},
   "outputs": [
    {
     "name": "stdout",
     "output_type": "stream",
     "text": [
      "Digite su color favorito azul\n",
      "A mí me gusta el azul también\n"
     ]
    }
   ],
   "source": [
    "color=str(input(\"Digite su color favorito \"))\n",
    "color=color.lower()\n",
    "if color==\"azul\":\n",
    "    print(\"A mí me gusta el azul también\")\n",
    "else:\n",
    "    print(f\"A mí no me gusta el color {color} prefiero el azul\")"
   ]
  },
  {
   "cell_type": "markdown",
   "id": "a45069ae",
   "metadata": {},
   "source": [
    "1.3.3 Escriba un programa que pida al usuario el número de horas trabajadas. El programa en retorno, deberá indicar cuánto deberá pagársele. La hora se pagará a 10 dólares si el número de horas es menor o igual que 15; se pagará a 12 dólares si el número de horas es mayor que 15 pero menor o igual que 30; y se pagará a 14 dólares si el número de horas es mayor que 30."
   ]
  },
  {
   "cell_type": "code",
   "execution_count": 18,
   "id": "dc7857a6",
   "metadata": {},
   "outputs": [],
   "source": [
    "def horasTrabajadas(horas):\n",
    "    res=0\n",
    "    if (horas<=15):\n",
    "        res=horas*10\n",
    "    if (horas>15 and horas<=30):\n",
    "        res=horas*12\n",
    "    if (horas>30):\n",
    "        res=horas*14\n",
    "    return res"
   ]
  },
  {
   "cell_type": "code",
   "execution_count": 19,
   "id": "e3a7bd30",
   "metadata": {},
   "outputs": [
    {
     "name": "stdout",
     "output_type": "stream",
     "text": [
      "Por favor ingrese el numero de horas laboradas: 9\n",
      "9.0 Horas Laboradas corresponden a $90.0 de salario\n"
     ]
    }
   ],
   "source": [
    "while True:\n",
    "    try:\n",
    "        n = input(\"Por favor ingrese el numero de horas laboradas: \")\n",
    "        horas = float(n)\n",
    "        if (horas<0):\n",
    "            print(\"Ingrese un valor mayor que 0\")\n",
    "            break\n",
    "        s=(horasTrabajadas(horas))\n",
    "        print(f\"{horas} Horas Laboradas corresponden a ${s} de salario\")\n",
    "        break\n",
    "    except ValueError:\n",
    "        print(\"El valor no es un numero válido\")"
   ]
  },
  {
   "cell_type": "markdown",
   "id": "456ba45e",
   "metadata": {},
   "source": [
    "1.4.1 Escriba una función llamada cubo (x) que reciba un número como parámetro y retorne el cubo de ese número."
   ]
  },
  {
   "cell_type": "code",
   "execution_count": 20,
   "id": "ba2f61d6",
   "metadata": {},
   "outputs": [
    {
     "data": {
      "text/plain": [
       "8"
      ]
     },
     "execution_count": 20,
     "metadata": {},
     "output_type": "execute_result"
    }
   ],
   "source": [
    "def cubo(n):\n",
    "    res=pow(n,3)\n",
    "    return res\n",
    "cubo(2)"
   ]
  },
  {
   "cell_type": "markdown",
   "id": "085b8521",
   "metadata": {},
   "source": [
    "1.4.2 Escriba una función llamada esImpar(x) que reciba un número como parámetro y retorne True si ese es un número es impar. En caso contrario deberá retornar False"
   ]
  },
  {
   "cell_type": "code",
   "execution_count": 21,
   "id": "55dbb222",
   "metadata": {},
   "outputs": [
    {
     "data": {
      "text/plain": [
       "True"
      ]
     },
     "execution_count": 21,
     "metadata": {},
     "output_type": "execute_result"
    }
   ],
   "source": [
    "def impar(n):\n",
    "    x=(n % 2==0)\n",
    "    if x==True:\n",
    "        res=False\n",
    "    else:\n",
    "        res=True\n",
    "    return res\n",
    "impar(7)"
   ]
  },
  {
   "cell_type": "markdown",
   "id": "513f26e0",
   "metadata": {},
   "source": [
    "1.4.3 Escriba una función llamada leyenda( ) que muestre la leyenda “Esta función no retorna nada”"
   ]
  },
  {
   "cell_type": "code",
   "execution_count": 22,
   "id": "706d215a",
   "metadata": {},
   "outputs": [
    {
     "name": "stdout",
     "output_type": "stream",
     "text": [
      "Esta función no retorna nada\n"
     ]
    }
   ],
   "source": [
    "def leyenda():\n",
    "    print(\"Esta función no retorna nada\")\n",
    "leyenda()"
   ]
  },
  {
   "cell_type": "markdown",
   "id": "97aca5a5",
   "metadata": {},
   "source": [
    "1.4.4 Escriba una función llamada promedio(x, y, z) que reciba como parámetros  tres valores numéricos, y que retorne el promedio de estos."
   ]
  },
  {
   "cell_type": "code",
   "execution_count": 23,
   "id": "f8948cab",
   "metadata": {},
   "outputs": [
    {
     "data": {
      "text/plain": [
       "2.0"
      ]
     },
     "execution_count": 23,
     "metadata": {},
     "output_type": "execute_result"
    }
   ],
   "source": [
    "def promedio(x,y,z):\n",
    "    res=(x+y+z)/3\n",
    "    return res\n",
    "promedio(1,2,3)"
   ]
  },
  {
   "cell_type": "markdown",
   "id": "e56085e8",
   "metadata": {},
   "source": [
    "1.4.5 Escriba una función llamada concatenacion (palabra1, palabra2, palabra3) que reciba tres strings como parámetros, y retorne los tres strings concatenados pero separados por un “ ”"
   ]
  },
  {
   "cell_type": "code",
   "execution_count": 24,
   "id": "f41f465f",
   "metadata": {},
   "outputs": [
    {
     "data": {
      "text/plain": [
       "'hola y adio$'"
      ]
     },
     "execution_count": 24,
     "metadata": {},
     "output_type": "execute_result"
    }
   ],
   "source": [
    "def concatenacion(palabra1,palabra2,palabra3):\n",
    "    res=palabra1+ \" \"+palabra2+\" \"+palabra3\n",
    "    return res\n",
    "concatenacion(\"hola\",\"y\",\"adio$\")"
   ]
  },
  {
   "cell_type": "markdown",
   "id": "d0ffb757",
   "metadata": {},
   "source": [
    "1.5.1 Inicie con una variable que llamaremos total, cuyo valor inicial es 0. Mientras la variable total sea menor o igual a 50, continúe solicitándole al usuario que introduzca un número. Sume ese número a la variable total, e imprima el mensaje “El total es …[total]”. Detenga el loop cuando el total sea mayor que 50."
   ]
  },
  {
   "cell_type": "code",
   "execution_count": 25,
   "id": "ac98effa",
   "metadata": {},
   "outputs": [
    {
     "name": "stdout",
     "output_type": "stream",
     "text": [
      "Digite un valor 2\n",
      "El total es 2\n",
      "Digite un valor 3\n",
      "El total es 5\n",
      "Digite un valor 5\n",
      "El total es 10\n",
      "Digite un valor 12\n",
      "El total es 22\n",
      "Digite un valor 45\n",
      "El total es 67\n"
     ]
    }
   ],
   "source": [
    "total=0\n",
    "while total<=50:\n",
    "    var=int(input(\"Digite un valor \"))\n",
    "    total=total+var\n",
    "    print(f\"El total es {total}\")"
   ]
  },
  {
   "cell_type": "markdown",
   "id": "5f4df684",
   "metadata": {},
   "source": [
    "1.5.2 Pídale al usuario que introduzca un número. Manténgase preguntando hasta que ingrese un valor más grande que 100. Cuando eso ocurra imprima el mensaje ”El último número que ingresó fue: [numero]”, y termine el programa."
   ]
  },
  {
   "cell_type": "code",
   "execution_count": 26,
   "id": "ec45bff1",
   "metadata": {},
   "outputs": [
    {
     "name": "stdout",
     "output_type": "stream",
     "text": [
      "introduzca un número 2\n",
      "introduzca un número 5\n",
      "introduzca un número 96\n",
      "introduzca un número 14\n",
      "introduzca un número 45\n",
      "introduzca un número 101\n",
      "El último número que ingresó fue: 101\n"
     ]
    }
   ],
   "source": [
    "numero=0\n",
    "while numero<100:\n",
    "    numero=int(input(\"introduzca un número \"))\n",
    "print(f\"El último número que ingresó fue: {numero}\")"
   ]
  },
  {
   "cell_type": "markdown",
   "id": "2e578943",
   "metadata": {},
   "source": [
    "1.5.3 Pídale al usuario que ingrese un número, y luego pídale que ingrese otro número. Sume esos dos números y luego pregunte si quieren seguir agregando otro número. Si el usuario responde “S”, pídale que ingrese o tro número y súmelo al total. Continúe preguntando hasta que el usuario responda “N”. Finalmente, cuando se detenga el ciclo, muestre el total."
   ]
  },
  {
   "cell_type": "code",
   "execution_count": 27,
   "id": "0e67f5ac",
   "metadata": {},
   "outputs": [
    {
     "name": "stdout",
     "output_type": "stream",
     "text": [
      "Ingrese numero 1: 2\n",
      "Ingrese numero 2: 3\n",
      "Desea agregar otro numero: S/N s\n",
      "Ingrese numero: 2\n",
      "Desea agregar otro numero: S/N s\n",
      "Ingrese numero: 47\n",
      "Desea agregar otro numero: S/N s\n",
      "Ingrese numero: 32\n",
      "Desea agregar otro numero: S/N n\n",
      "El total es: 86\n"
     ]
    }
   ],
   "source": [
    "n1= int(input(\"Ingrese numero 1: \"))\n",
    "n2= int(input(\"Ingrese numero 2: \"))\n",
    "total=n1+n2\n",
    "#opt= str(input(\"Desea agregar otro numero: S/N \"))\n",
    "#opt.upper()\n",
    "x=\"S\"\n",
    "while x==\"S\":\n",
    "    opt= str(input(\"Desea agregar otro numero: S/N \"))\n",
    "    x=opt.upper()\n",
    "    if x==\"N\":\n",
    "        break\n",
    "    n= int(input(\"Ingrese numero: \"))\n",
    "    total=total+n\n",
    "print(f\"El total es: {total}\")    \n",
    "    "
   ]
  },
  {
   "cell_type": "markdown",
   "id": "ad65cb28",
   "metadata": {},
   "source": [
    "# Semana 2"
   ]
  },
  {
   "cell_type": "markdown",
   "id": "68682767",
   "metadata": {},
   "source": [
    "2.1.1. Construya una lista con al menos 7 elementos. La lista debe contener diferentes tipos de datos."
   ]
  },
  {
   "cell_type": "code",
   "execution_count": 28,
   "id": "e8763d31",
   "metadata": {},
   "outputs": [
    {
     "name": "stdout",
     "output_type": "stream",
     "text": [
      "[1, 2, 'Jorge', 123.5, True, [3.1, 'Pi', 987], None]\n"
     ]
    }
   ],
   "source": [
    "lista=[1,2,\"Jorge\",123.5,True,[3.1,\"Pi\",987],None]\n",
    "print(lista)"
   ]
  },
  {
   "cell_type": "markdown",
   "id": "d857b8c5",
   "metadata": {},
   "source": [
    "2.1.2 Escriba una lista con los años de nacimiento de 5 miembros de su familia. Denomine esa lista como lista_anios_nacimiento. Muestre los resultados."
   ]
  },
  {
   "cell_type": "code",
   "execution_count": 29,
   "id": "5ce9e91a",
   "metadata": {},
   "outputs": [
    {
     "name": "stdout",
     "output_type": "stream",
     "text": [
      "[1962, 1964, 1982, 1984, 1986, 1987]\n"
     ]
    }
   ],
   "source": [
    "lista_anios_nacimiento=[1962,1964,1982,1984,1986,1987]\n",
    "print(lista_anios_nacimiento)"
   ]
  },
  {
   "cell_type": "markdown",
   "id": "34c4c0da",
   "metadata": {},
   "source": [
    "2.1.3 Reescriba la lista anterior como una lista de listas. Cada sublista deberá contener el nombre de su familiar al lado de su respectivo año. Denomine esa lista como lista_anios_nacimiento2. Muestre los resultados."
   ]
  },
  {
   "cell_type": "code",
   "execution_count": 30,
   "id": "01c5daa0",
   "metadata": {},
   "outputs": [
    {
     "name": "stdout",
     "output_type": "stream",
     "text": [
      "[['Arturo', 1962], ['Ivette', 1964], ['Jorge', 1982], ['Oscar', 1984], ['Tere', 1986], ['Adriana', 1987]]\n"
     ]
    }
   ],
   "source": [
    "lista_anios_nacimiento2=[[\"Arturo\",1962],[\"Ivette\",1964],[\"Jorge\",1982],[\"Oscar\",1984],[\"Tere\",1986],[\"Adriana\",1987]]\n",
    "print(lista_anios_nacimiento2)"
   ]
  },
  {
   "cell_type": "markdown",
   "id": "cac7eaf2",
   "metadata": {},
   "source": [
    "2.2 Utilizando la lista de estaturas y nombres:"
   ]
  },
  {
   "cell_type": "code",
   "execution_count": 31,
   "id": "2f0ce19b",
   "metadata": {},
   "outputs": [],
   "source": [
    "lista_de_estaturas_y_nombres=[\"Jorge\",1.60,\"Laura\",1.76,\"Rodrigo\",1.81,\"Maria\",1.65,\"Tony\",1.86,\"Jessica\",1.62]"
   ]
  },
  {
   "cell_type": "markdown",
   "id": "db883e74",
   "metadata": {},
   "source": [
    "2.2.1 Crea una nueva lista vacía\n",
    "lista_particion = []\n",
    "Asigna en lista_particion los valores de la lista_de_estaturas_y_nombres desde el índice 1 hasta el índice 10.\n",
    "Muestra (imprime) el resultado de lista_particion\n"
   ]
  },
  {
   "cell_type": "code",
   "execution_count": 32,
   "id": "a4719feb",
   "metadata": {},
   "outputs": [
    {
     "name": "stdout",
     "output_type": "stream",
     "text": [
      "[1.6, 'Laura', 1.76, 'Rodrigo', 1.81, 'Maria', 1.65, 'Tony', 1.86, 'Jessica']\n"
     ]
    }
   ],
   "source": [
    "lista_particion=[]\n",
    "lista_particion=lista_de_estaturas_y_nombres[1:11]\n",
    "print(lista_particion)"
   ]
  },
  {
   "cell_type": "markdown",
   "id": "f8ac82f8",
   "metadata": {},
   "source": [
    "2.2.2 Crea una nueva lista vacía\n",
    "lista_particion2 = []\n",
    "Asigna en lista_particion2 los elementos de la primera mitad de lista_de_estaturas_y_nombres\n",
    "Muestra (imprime) el resultado de lista_particion2\n"
   ]
  },
  {
   "cell_type": "code",
   "execution_count": 33,
   "id": "24541481",
   "metadata": {},
   "outputs": [
    {
     "name": "stdout",
     "output_type": "stream",
     "text": [
      "['Jorge', 1.6, 'Laura', 1.76, 'Rodrigo', 1.81]\n"
     ]
    }
   ],
   "source": [
    "lista_particion2=[]\n",
    "lista_particion2=lista_de_estaturas_y_nombres[0:6]\n",
    "print(lista_particion2)"
   ]
  },
  {
   "cell_type": "markdown",
   "id": "4fb2da53",
   "metadata": {},
   "source": [
    "2.2.3 Crea una nueva lista vacía\n",
    "lista_particion3 = [ ]\n",
    "Asigna en lista_particion3 los nombres y estaturas desde Laura hasta Tony, incluyendo la estatura de este último\n",
    "Muestra (imprime) el resultado de lista_particion3\n"
   ]
  },
  {
   "cell_type": "code",
   "execution_count": 34,
   "id": "8d2e4786",
   "metadata": {},
   "outputs": [
    {
     "name": "stdout",
     "output_type": "stream",
     "text": [
      "['Laura', 1.76, 'Rodrigo', 1.81, 'Maria', 1.65, 'Tony', 1.86]\n"
     ]
    }
   ],
   "source": [
    "lista_particion3=[]\n",
    "lista_particion3=lista_de_estaturas_y_nombres[2:10]\n",
    "print(lista_particion3)"
   ]
  },
  {
   "cell_type": "markdown",
   "id": "3275ae3a",
   "metadata": {},
   "source": [
    "2.3.1 Utilizando los índices que usted ya conoce, sume las alturas contenidas en la lista_de_estaturas_y_nombres. Asigne el resultado a una variable, e imprima una leyenda que diga algo más o menos así “El resultado de las sumas de alturas es: ”"
   ]
  },
  {
   "cell_type": "code",
   "execution_count": 35,
   "id": "aeb47381",
   "metadata": {},
   "outputs": [
    {
     "name": "stdout",
     "output_type": "stream",
     "text": [
      "El resultado de las sumas de alturas es: 10.3\n"
     ]
    }
   ],
   "source": [
    "alturas=0\n",
    "for i in range(0,len(lista_de_estaturas_y_nombres)):\n",
    "    if i % 2!=0:\n",
    "        alturas=alturas+lista_de_estaturas_y_nombres[i]\n",
    "print(f\"El resultado de las sumas de alturas es: {alturas}\")\n",
    "    "
   ]
  },
  {
   "cell_type": "markdown",
   "id": "4051baab",
   "metadata": {},
   "source": [
    "2.3.2 Reescriba el programa anterior pero utilizando ahora el ciclo while"
   ]
  },
  {
   "cell_type": "code",
   "execution_count": 36,
   "id": "2ea6f594",
   "metadata": {},
   "outputs": [
    {
     "name": "stdout",
     "output_type": "stream",
     "text": [
      "El resultado de las sumas de alturas es: 10.3\n"
     ]
    }
   ],
   "source": [
    "alturas=0\n",
    "max_index=len(lista_de_estaturas_y_nombres)-1\n",
    "while max_index>=0:\n",
    "    if max_index % 2!=0:\n",
    "        alturas=alturas+lista_de_estaturas_y_nombres[max_index]\n",
    "    max_index=max_index-1\n",
    "print(f\"El resultado de las sumas de alturas es: {alturas}\")"
   ]
  },
  {
   "cell_type": "markdown",
   "id": "be48b404",
   "metadata": {},
   "source": [
    "2.3.3 Reescriba el programa anterior como una función de Python"
   ]
  },
  {
   "cell_type": "code",
   "execution_count": 37,
   "id": "33c51ba0",
   "metadata": {},
   "outputs": [
    {
     "name": "stdout",
     "output_type": "stream",
     "text": [
      "10.3\n"
     ]
    }
   ],
   "source": [
    "def sumaalturas():\n",
    "    alturas=0\n",
    "    max_index=len(lista_de_estaturas_y_nombres)-1\n",
    "    while max_index>=0:\n",
    "        if max_index % 2!=0:\n",
    "            alturas=alturas+lista_de_estaturas_y_nombres[max_index]\n",
    "        max_index=max_index-1\n",
    "    return alturas\n",
    "print(sumaalturas())"
   ]
  },
  {
   "cell_type": "markdown",
   "id": "b5b2b65f",
   "metadata": {},
   "source": [
    "2.4.1 Crea una nueva lista vacía\n",
    "lista_de_estaturas_y_nombres_grupo = [ ]\n",
    "Utilizando el operador + agrega en esta nueva lista los nombres y estaturas contenidos en lista_de_estaturas_y_nombres y además incluye los nombres y estaturas (tu mejor aproximación) de los miembros de tu grupo de estudio.\n",
    "Imprime utilizando print, la nueva lista lista_de_estaturas_y_nombres_grupo con los cambios realiz ados\n"
   ]
  },
  {
   "cell_type": "code",
   "execution_count": 38,
   "id": "ebea1ddc",
   "metadata": {},
   "outputs": [
    {
     "name": "stdout",
     "output_type": "stream",
     "text": [
      "['Jorge', 1.6, 'Laura', 1.76, 'Rodrigo', 1.81, 'Maria', 1.65, 'Tony', 1.86, 'Jessica', 1.62, 'Rene', 1.72, 'Claudia', 1.6, 'Roberto', 1.73, 'Moises', 1.67]\n"
     ]
    }
   ],
   "source": [
    "lista_de_estaturas_y_nombres_grupo=[]\n",
    "lista_de_estaturas_y_nombres_grupo=lista_de_estaturas_y_nombres_grupo+lista_de_estaturas_y_nombres\n",
    "lista_de_estaturas_y_nombres_grupo=lista_de_estaturas_y_nombres_grupo+[\"Rene\",1.72]+[\"Claudia\",1.60]+[\"Roberto\",1.73]+[\"Moises\",1.67]\n",
    "print(lista_de_estaturas_y_nombres_grupo)"
   ]
  },
  {
   "cell_type": "markdown",
   "id": "dd2821dc",
   "metadata": {},
   "source": [
    "2.4.2 Utilizando la lista_de_estaturas_y_nombres_grupo con los resultados del ejercicio anterior.\n",
    "Elimina los nombres y estaturas que no corresponden a los miembros de tu grupo.\n",
    "Imprime utilizando print, la lista_de_estaturas_y_nombres_grupo con los cambios realizados\n"
   ]
  },
  {
   "cell_type": "code",
   "execution_count": 39,
   "id": "feb07482",
   "metadata": {},
   "outputs": [
    {
     "name": "stdout",
     "output_type": "stream",
     "text": [
      "['Rene', 1.72, 'Claudia', 1.6, 'Roberto', 1.73, 'Moises', 1.67]\n"
     ]
    }
   ],
   "source": [
    "del lista_de_estaturas_y_nombres_grupo[0:12]\n",
    "print(lista_de_estaturas_y_nombres_grupo)"
   ]
  },
  {
   "cell_type": "markdown",
   "id": "5737686f",
   "metadata": {},
   "source": [
    "2.4.3 Utilizando la lista_de_estaturas_y_nombres_grupo con los resultados del ejercicio anterior.\n",
    "Pide las estaturas de los diferentes miembros de tu grupo de estudio, y actualiza la lista lista_de_estaturas_y_nombres_grupo con las estaturas reales.\n",
    "Imprime utilizando print, la lista_de_estaturas_y_nombres_grupo con los cambios realizados.\n"
   ]
  },
  {
   "cell_type": "code",
   "execution_count": 40,
   "id": "ec6dc88b",
   "metadata": {},
   "outputs": [
    {
     "name": "stdout",
     "output_type": "stream",
     "text": [
      "['Rene', 1.73, 'Claudia', 1.59, 'Roberto', 1.75, 'Moises', 1.67]\n"
     ]
    }
   ],
   "source": [
    "lista_de_estaturas_y_nombres_grupo[1]=1.73\n",
    "lista_de_estaturas_y_nombres_grupo[3]=1.59\n",
    "lista_de_estaturas_y_nombres_grupo[5]=1.75\n",
    "print(lista_de_estaturas_y_nombres_grupo)"
   ]
  },
  {
   "cell_type": "markdown",
   "id": "d2cc50a7",
   "metadata": {},
   "source": [
    "2.4.4 Reescriba el ejercicio 2.4.1.\n",
    "Deberá escribir una función que se llame Agrega_Estura (lista). Esta función recibirá una lista como parámetro. Esta lista es similar en estructura y forma a la lista_de_estaturas_y_nombres\n",
    "Utilizando un ciclo while y la función input, el algoritmo dará preguntar al usuario:\n",
    "“Desea ingresar un nuevo nombre y estatura?” si el usuario responde ‘N’ el algoritmo termina y muestra la lista resultante. Si el usuario responde ‘Y’, entonces el algoritmo primero deberá deberá pedir “Ingrese el nombre del nuevo integrante:”, y luego deberá pedir “Ingrese la altura del nuevo integrante:”\n"
   ]
  },
  {
   "cell_type": "code",
   "execution_count": 41,
   "id": "7751e2cf",
   "metadata": {},
   "outputs": [
    {
     "name": "stdout",
     "output_type": "stream",
     "text": [
      "['Rene', 1.73, 'Claudia', 1.59, 'Roberto', 1.75, 'Moises', 1.67]\n"
     ]
    }
   ],
   "source": [
    "print(lista_de_estaturas_y_nombres_grupo)"
   ]
  },
  {
   "cell_type": "code",
   "execution_count": 42,
   "id": "8bced271",
   "metadata": {},
   "outputs": [
    {
     "name": "stdout",
     "output_type": "stream",
     "text": [
      "Desea ingresar un nuevo nombre y estatura?: S/Ns\n",
      "Ingrese el nombre del nuevo integrante: Karla\n",
      "Ingrese la altura del nuevo integrante 1.62\n",
      "Desea ingresar un nuevo nombre y estatura?: S/Ns\n",
      "Ingrese el nombre del nuevo integrante: Esteban\n",
      "Ingrese la altura del nuevo integrante 1.77\n",
      "Desea ingresar un nuevo nombre y estatura?: S/Ns\n",
      "Ingrese el nombre del nuevo integrante: Oscar\n",
      "Ingrese la altura del nuevo integrante 1.96\n",
      "Desea ingresar un nuevo nombre y estatura?: S/Nn\n",
      "['Rene', 1.73, 'Claudia', 1.59, 'Roberto', 1.75, 'Moises', 1.67, 'Karla', 1.62, 'Esteban', 1.77, 'Oscar', 1.96]\n"
     ]
    }
   ],
   "source": [
    "nuevo_integrante=[]\n",
    "nombre=\"\"\n",
    "estatura=0\n",
    "opt=\"S\"\n",
    "def Agrega_Estatura (lista):\n",
    "    global lista_de_estaturas_y_nombres_grupo\n",
    "    lista_de_estaturas_y_nombres_grupo=lista_de_estaturas_y_nombres_grupo+lista\n",
    "    return True\n",
    "\n",
    "\n",
    "while opt==\"S\":\n",
    "    opt=input(\"Desea ingresar un nuevo nombre y estatura?: S/N\")\n",
    "    opt=opt.upper()\n",
    "    if opt==\"S\":\n",
    "        nombre=str(input(\"Ingrese el nombre del nuevo integrante: \"))\n",
    "        estatura=float(input(\"Ingrese la altura del nuevo integrante \"))\n",
    "        nuevo_integrante=[nombre,estatura]\n",
    "        Agrega_Estatura(nuevo_integrante)\n",
    "    else:\n",
    "        print(lista_de_estaturas_y_nombres_grupo) \n"
   ]
  },
  {
   "cell_type": "markdown",
   "id": "e7ff0c7f",
   "metadata": {},
   "source": [
    "2.5.1 Crear dos listas: lista1 con los elementos de la primera mitad de Lista_base y lista2 con los elementos de la segunda mitad."
   ]
  },
  {
   "cell_type": "code",
   "execution_count": 99,
   "id": "921dd035",
   "metadata": {},
   "outputs": [],
   "source": [
    "Lista_base = [46, 20, 84, 12, 64, 94, 71, 44, 46, 53, 33, 88, 58, 82, 33, 74, 76, 74, 34, 51, 5, 69, 48, 39, 58, 98, 3, 84, 47, 43, 74, 29, 40, 99, 5, 14, 10, 22, 87, 21, 12, 23, 99, 40, 32, 86, 95, 7, 72, 58, 92, 81, 43, 100, 9, 100, 100, 4, 85, 11, 76, 19, 20, 48, 94, 95, 92, 79, 3, 36, 90, 68, 67, 87, 37, 78, 77, 36, 74, 98, 43, 68, 5, 95, 92, 81, 56, 79, 76, 14, 96, 66, 78, 72, 76, 58, 67, 2, 90, 75]"
   ]
  },
  {
   "cell_type": "code",
   "execution_count": 100,
   "id": "f2db2b99",
   "metadata": {},
   "outputs": [
    {
     "name": "stdout",
     "output_type": "stream",
     "text": [
      "100\n",
      "50\n",
      "50\n",
      "[46, 20, 84, 12, 64, 94, 71, 44, 46, 53, 33, 88, 58, 82, 33, 74, 76, 74, 34, 51, 5, 69, 48, 39, 58, 98, 3, 84, 47, 43, 74, 29, 40, 99, 5, 14, 10, 22, 87, 21, 12, 23, 99, 40, 32, 86, 95, 7, 72, 58]\n",
      "[92, 81, 43, 100, 9, 100, 100, 4, 85, 11, 76, 19, 20, 48, 94, 95, 92, 79, 3, 36, 90, 68, 67, 87, 37, 78, 77, 36, 74, 98, 43, 68, 5, 95, 92, 81, 56, 79, 76, 14, 96, 66, 78, 72, 76, 58, 67, 2, 90, 75]\n"
     ]
    }
   ],
   "source": [
    "lista1=Lista_base[0:50]\n",
    "lista2=Lista_base[50:101]\n",
    "print(len(Lista_base))\n",
    "print(len(lista1))\n",
    "print(len(lista2))\n",
    "print(lista1)\n",
    "print(lista2)"
   ]
  },
  {
   "cell_type": "markdown",
   "id": "15f901c2",
   "metadata": {},
   "source": [
    "2.5.2 Ordenar lista1 en orden secuencial. Por otra parte, lista2 deberá modificarse para que sus elementos estén ordenados en orden inverso. Imprimir, Lista_base, lista1 y lista2\n"
   ]
  },
  {
   "cell_type": "code",
   "execution_count": 101,
   "id": "cf2aec59",
   "metadata": {},
   "outputs": [
    {
     "name": "stdout",
     "output_type": "stream",
     "text": [
      "[46, 20, 84, 12, 64, 94, 71, 44, 46, 53, 33, 88, 58, 82, 33, 74, 76, 74, 34, 51, 5, 69, 48, 39, 58, 98, 3, 84, 47, 43, 74, 29, 40, 99, 5, 14, 10, 22, 87, 21, 12, 23, 99, 40, 32, 86, 95, 7, 72, 58, 92, 81, 43, 100, 9, 100, 100, 4, 85, 11, 76, 19, 20, 48, 94, 95, 92, 79, 3, 36, 90, 68, 67, 87, 37, 78, 77, 36, 74, 98, 43, 68, 5, 95, 92, 81, 56, 79, 76, 14, 96, 66, 78, 72, 76, 58, 67, 2, 90, 75]\n"
     ]
    }
   ],
   "source": [
    "print(Lista_base)"
   ]
  },
  {
   "cell_type": "code",
   "execution_count": 45,
   "id": "80a0ace2",
   "metadata": {},
   "outputs": [
    {
     "name": "stdout",
     "output_type": "stream",
     "text": [
      "[3, 5, 5, 7, 10, 12, 12, 14, 20, 21, 22, 23, 29, 32, 33, 33, 34, 39, 40, 40, 43, 44, 46, 46, 47, 48, 51, 53, 58, 58, 58, 64, 69, 71, 72, 74, 74, 74, 76, 82, 84, 84, 86, 87, 88, 94, 95, 98, 99, 99]\n"
     ]
    }
   ],
   "source": [
    "lista1.sort()\n",
    "print(lista1)"
   ]
  },
  {
   "cell_type": "code",
   "execution_count": 46,
   "id": "381d5138",
   "metadata": {},
   "outputs": [
    {
     "name": "stdout",
     "output_type": "stream",
     "text": [
      "[100, 100, 100, 98, 96, 95, 95, 94, 92, 92, 92, 90, 90, 87, 85, 81, 81, 79, 79, 78, 78, 77, 76, 76, 76, 75, 74, 72, 68, 68, 67, 67, 66, 58, 56, 48, 43, 43, 37, 36, 36, 20, 19, 14, 11, 9, 5, 4, 3, 2]\n"
     ]
    }
   ],
   "source": [
    "lista2.sort(reverse=True)\n",
    "print(lista2)"
   ]
  },
  {
   "cell_type": "markdown",
   "id": "6b1a27b2",
   "metadata": {},
   "source": [
    "2.5.3 Sumar y remover los elementos de la lista original. Es decir debe crear un algoritmo que sume cada elemento de la lista original al mismo tiempo que los va eliminando de esta y los va agregando a otra lista llamada Lista_base2 que originalmente está vacía."
   ]
  },
  {
   "cell_type": "code",
   "execution_count": 102,
   "id": "0b4f0a7d",
   "metadata": {},
   "outputs": [
    {
     "name": "stdout",
     "output_type": "stream",
     "text": [
      "El total es: 5744\n",
      "Lista Base: []\n",
      "Lista base 2 es:[75, 90, 2, 67, 58, 76, 72, 78, 66, 96, 14, 76, 79, 56, 81, 92, 95, 5, 68, 43, 98, 74, 36, 77, 78, 37, 87, 67, 68, 90, 36, 3, 79, 92, 95, 94, 48, 20, 19, 76, 11, 85, 4, 100, 100, 9, 100, 43, 81, 92, 58, 72, 7, 95, 86, 32, 40, 99, 23, 12, 21, 87, 22, 10, 14, 5, 99, 40, 29, 74, 43, 47, 84, 3, 98, 58, 39, 48, 69, 5, 51, 34, 74, 76, 74, 33, 82, 58, 88, 33, 53, 46, 44, 71, 94, 64, 12, 84, 20, 46]\n"
     ]
    }
   ],
   "source": [
    "Lista_base2=[]\n",
    "total=0\n",
    "rn=len(Lista_base)-1\n",
    "while rn>=0:\n",
    "    total=total+Lista_base[rn]\n",
    "    #print(rn)\n",
    "    Lista_base2.append(Lista_base[rn])\n",
    "    del(Lista_base[rn])\n",
    "    rn=rn-1\n",
    "print(f\"El total es: {total}\") \n",
    "print(f\"Lista Base: {Lista_base}\")\n",
    "print(f\"Lista base 2 es:{Lista_base2}\")\n",
    "\n",
    "    "
   ]
  },
  {
   "cell_type": "markdown",
   "id": "d69de88b",
   "metadata": {},
   "source": [
    "2.6.1. Escriba una función llamada largo. La función largo(lista), recibirá una lista como parámetro, y deberá retornar la longitud de la lista, es decir la cantidad de elementos que contiene."
   ]
  },
  {
   "cell_type": "code",
   "execution_count": 48,
   "id": "9ae24b62",
   "metadata": {},
   "outputs": [
    {
     "name": "stdout",
     "output_type": "stream",
     "text": [
      "El largo de la lista es:6\n"
     ]
    }
   ],
   "source": [
    "lst=[1,2,3,4,5,6]\n",
    "def largo(lista):\n",
    "    out=len(lista)\n",
    "    return out\n",
    "\n",
    "print(f\"El largo de la lista es:{largo(lst)}\")"
   ]
  },
  {
   "cell_type": "markdown",
   "id": "e3c54fda",
   "metadata": {},
   "source": [
    "2.6.2. Escriba una función llamada miembro. La función miembro(e, lista), recibirá un elemento y una lista como parámetros. Deberá retornar True si el elemento e es miembro de la lista; de lo contrario retornará False."
   ]
  },
  {
   "cell_type": "code",
   "execution_count": 49,
   "id": "4863ba02",
   "metadata": {},
   "outputs": [
    {
     "name": "stdout",
     "output_type": "stream",
     "text": [
      "True\n",
      "False\n"
     ]
    }
   ],
   "source": [
    "lst=[1,2,3,4,5,6]\n",
    "def miembro(e,lista):\n",
    "    if e in lista:\n",
    "        return True\n",
    "    else:\n",
    "        return False\n",
    "\n",
    "print(miembro(1,lst))\n",
    "print(miembro(7,lst))"
   ]
  },
  {
   "cell_type": "markdown",
   "id": "054a37a2",
   "metadata": {},
   "source": [
    "2.6.3. Escriba una función que se llame actualizar_precios. La función actualizar_precios(lista, incremento), recibirá una lista de precios y un valor float entre 0 y 100 (por ejemplo 0.10) correspondiente al incremento que se desea otorgar a todos los precios. La función deberá retornar la lista de precios actualizada."
   ]
  },
  {
   "cell_type": "code",
   "execution_count": 50,
   "id": "4eb6f4dd",
   "metadata": {},
   "outputs": [
    {
     "name": "stdout",
     "output_type": "stream",
     "text": [
      "1.1\n",
      "[1320.0, 5940.000000000001, 3960.0000000000005, 9431.400000000001, 321]\n"
     ]
    }
   ],
   "source": [
    "lista_precios=[1200,5400,3600,8574,321]\n",
    "def actualizar_precios(lista,incremento):\n",
    "    incremento=incremento+1\n",
    "    print(incremento)\n",
    "    for i in range(0,len(lista)-1):\n",
    "        lista[i]=lista[i]*incremento\n",
    "    return lista\n",
    "print(actualizar_precios(lista_precios,0.1))"
   ]
  },
  {
   "cell_type": "markdown",
   "id": "b5f1419b",
   "metadata": {},
   "source": [
    "2.6.4. Escriba una función que se llame suma_lista. La función suma_lista(lista), recibirá una lista de números y deberá retornar la suma de los elementos de esa lista."
   ]
  },
  {
   "cell_type": "code",
   "execution_count": 51,
   "id": "118cd473",
   "metadata": {},
   "outputs": [
    {
     "name": "stdout",
     "output_type": "stream",
     "text": [
      "1200\n",
      "5400\n",
      "3600\n",
      "8574\n",
      "321\n",
      "19095\n"
     ]
    }
   ],
   "source": [
    "lista=[1200,5400,3600,8574,321]\n",
    "def suma_lista(lista):\n",
    "    total=0\n",
    "    for i in lista:\n",
    "        print (i)\n",
    "        total=i+total\n",
    "    return total\n",
    "print(suma_lista(lista))"
   ]
  },
  {
   "cell_type": "markdown",
   "id": "196fe1a7",
   "metadata": {},
   "source": [
    "2.6.5. Escriba una función que se llame promedio_lista. La función promedio_lista(lista), recibirá una lista de números y deberá retornar el promedio de los valores de esa lista."
   ]
  },
  {
   "cell_type": "code",
   "execution_count": 52,
   "id": "004b861c",
   "metadata": {},
   "outputs": [
    {
     "name": "stdout",
     "output_type": "stream",
     "text": [
      "3819.0\n"
     ]
    }
   ],
   "source": [
    "lista=[1200,5400,3600,8574,321]\n",
    "def promedio_lista(lista):\n",
    "    total=0\n",
    "    for i in lista:\n",
    "        total=i+total\n",
    "    total=total/len(lista)\n",
    "    return total\n",
    "print(promedio_lista(lista))"
   ]
  },
  {
   "cell_type": "markdown",
   "id": "ca7079e4",
   "metadata": {},
   "source": [
    "2.6.7. Escriba una función que se llame valor_maximo. La función valor_maximo (lista), recibirá una lista de números, y deberá retornar el valor máximo de dicha lista."
   ]
  },
  {
   "cell_type": "code",
   "execution_count": 53,
   "id": "2dcbc1fb",
   "metadata": {},
   "outputs": [
    {
     "name": "stdout",
     "output_type": "stream",
     "text": [
      "8574\n"
     ]
    }
   ],
   "source": [
    "lista=[1200,5400,3600,8574,321]\n",
    "def valor_maximo(lista):\n",
    "    lista.sort(reverse=True)\n",
    "    return lista[0]\n",
    "print(valor_maximo(lista))"
   ]
  },
  {
   "cell_type": "markdown",
   "id": "90817771",
   "metadata": {},
   "source": [
    "2.7.1 Haremos una función donde el usuario deba adivinar un número aleatorio entre 0 y 100\n",
    "\n",
    "•\tInicialmente el programa deberá calcular un número aleatorio entre 0 y 100.\n",
    "•\tEl programa pedirá al usuario que intente adivinar el número. Para ello, el programa pedirá al usuario que ingrese un número.\n",
    "•\tSi el número que introdujo el usuario es mayor que el número aleatorio, el programa deberá indicarle al usuario.\n",
    "•\tSi el número que introdujo el usuario es menor que el número aleatorio, el programa deberá indicarle al usuario.\n",
    "•\tSi el número que introdujo el usuario es igual que el número aleatorio, entonces el programa felicita al usuario por acertar. El programa mostrará el número aleatorio (hay que mantener la transparencia en los juegos), y el programa se termina.\n",
    "•\tOjo, si el usuario no acierta, el programa debe volver a solicitarle al usuario un número.\n",
    "•\tEl usuario tendrá hasta 10 intentos para adivinar. Si el usuario acierta el usuario gana. Si después del 10th intento el usuario no ha adivinado, entonces la computadora gana.\n"
   ]
  },
  {
   "cell_type": "code",
   "execution_count": 54,
   "id": "35b4d048",
   "metadata": {},
   "outputs": [
    {
     "name": "stdout",
     "output_type": "stream",
     "text": [
      "80\n"
     ]
    }
   ],
   "source": [
    "import random\n",
    "numero_ganador=random.randint(0, 100)\n",
    "print(numero_ganador)\n",
    "\n",
    "def adivinar(numero):\n",
    "    if numero==numero_ganador:\n",
    "        ret=\"Felicidades Gano\"\n",
    "    if numero>numero_ganador:\n",
    "        ret=\"Numero es mayor que el premio\"\n",
    "    if numero<numero_ganador:\n",
    "        ret=\"Numero es menor que el premio\"\n",
    "    return ret\n",
    "\n",
    "    "
   ]
  },
  {
   "cell_type": "code",
   "execution_count": 55,
   "id": "3aa79a73",
   "metadata": {},
   "outputs": [
    {
     "name": "stdout",
     "output_type": "stream",
     "text": [
      "Digite un numero para jugar(0-99): 0\n",
      "Numero es menor que el premio\n",
      "Digite un numero para jugar(0-99): 2\n",
      "Numero es menor que el premio\n",
      "Digite un numero para jugar(0-99): 85\n",
      "Numero es mayor que el premio\n",
      "Digite un numero para jugar(0-99): 12\n",
      "Numero es menor que el premio\n",
      "Digite un numero para jugar(0-99): 80\n",
      "Felicidades Gano\n"
     ]
    }
   ],
   "source": [
    "opt=True\n",
    "intentos=0\n",
    "while opt:\n",
    "    intentos=intentos+1\n",
    "    num=int(input(\"Digite un numero para jugar(0-99): \"))\n",
    "    out=adivinar(num)\n",
    "    print(out)\n",
    "    if out==\"Felicidades Gano\":\n",
    "        opt=False\n",
    "        break\n",
    "    else:\n",
    "        opt=True\n",
    "    if intentos==10:\n",
    "        opt=False\n",
    "        print(\"Computadora Gano\")\n",
    "    else:\n",
    "        opt=True"
   ]
  },
  {
   "cell_type": "markdown",
   "id": "c2795132",
   "metadata": {},
   "source": [
    "# Semana 3"
   ]
  },
  {
   "cell_type": "markdown",
   "id": "5f9f73c6",
   "metadata": {},
   "source": [
    "Utilizando como base el diccionario Datos_banco_mundial"
   ]
  },
  {
   "cell_type": "code",
   "execution_count": 56,
   "id": "f28366f1",
   "metadata": {},
   "outputs": [],
   "source": [
    "Datos_banco_mundial={\"Afganistan\":34413603.0,\"Albania\":2880703.0,\"Argelia\":39728025.0,\"Andorra\":78011.0,\n",
    "\"Angola\":27884381.0,\"Antigua y Barbuda\":93566.0,\"Argentina\":43131966.0}"
   ]
  },
  {
   "cell_type": "markdown",
   "id": "a7041357",
   "metadata": {},
   "source": [
    "3.1.1 Acceda a la población de Afganistán, Angola y Argentina"
   ]
  },
  {
   "cell_type": "code",
   "execution_count": 57,
   "id": "b614dbe7",
   "metadata": {},
   "outputs": [
    {
     "data": {
      "text/plain": [
       "34413603.0"
      ]
     },
     "execution_count": 57,
     "metadata": {},
     "output_type": "execute_result"
    }
   ],
   "source": [
    "Datos_banco_mundial.get(\"Afganistan\")\n"
   ]
  },
  {
   "cell_type": "code",
   "execution_count": 58,
   "id": "05478ed3",
   "metadata": {},
   "outputs": [
    {
     "data": {
      "text/plain": [
       "27884381.0"
      ]
     },
     "execution_count": 58,
     "metadata": {},
     "output_type": "execute_result"
    }
   ],
   "source": [
    "Datos_banco_mundial.get(\"Angola\")"
   ]
  },
  {
   "cell_type": "code",
   "execution_count": 59,
   "id": "92bb6634",
   "metadata": {},
   "outputs": [
    {
     "data": {
      "text/plain": [
       "43131966.0"
      ]
     },
     "execution_count": 59,
     "metadata": {},
     "output_type": "execute_result"
    }
   ],
   "source": [
    "Datos_banco_mundial.get(\"Argentina\")"
   ]
  },
  {
   "cell_type": "markdown",
   "id": "b39950ef",
   "metadata": {},
   "source": [
    "3.1.2 Acceda a la población de Francia. ¿Qué sucedió y por qué?\n",
    "Respuesta:devuelve None ya que el key no existe"
   ]
  },
  {
   "cell_type": "code",
   "execution_count": 60,
   "id": "9d9544e4",
   "metadata": {},
   "outputs": [
    {
     "name": "stdout",
     "output_type": "stream",
     "text": [
      "None\n"
     ]
    }
   ],
   "source": [
    "ret=Datos_banco_mundial.get(\"Francia\")\n",
    "print(ret)"
   ]
  },
  {
   "cell_type": "code",
   "execution_count": 61,
   "id": "d83f7f35",
   "metadata": {},
   "outputs": [
    {
     "name": "stdout",
     "output_type": "stream",
     "text": [
      "43131966.0\n"
     ]
    }
   ],
   "source": [
    "ret=Datos_banco_mundial.get(\"Argentina\")\n",
    "print(ret)"
   ]
  },
  {
   "cell_type": "markdown",
   "id": "081a6501",
   "metadata": {},
   "source": [
    "3.1.3 Cree una función que se llame obtenerPoblacion(nombre_pais). La función como parámetro recibirá un string. Dicho string corresponde al nombre de un país. La función debe buscar en el diccionario Datos_banco_mundial la población asociada al país en cuestión, y debe imprimir la leyenda “La población del país x es z”. Donde x es el nombre del país y z es la población asociada a ese país. En caso de que no exista dicho país en el diccionario, la función debe ser capaz de capturar ese error e imprimir la leyenda “No hay datos para el país x”."
   ]
  },
  {
   "cell_type": "code",
   "execution_count": 62,
   "id": "d80606a9",
   "metadata": {},
   "outputs": [
    {
     "name": "stdout",
     "output_type": "stream",
     "text": [
      "La población del país Albania es 2880703.0\n",
      "No hay datos para el pais Rumania\n"
     ]
    },
    {
     "data": {
      "text/plain": [
       "True"
      ]
     },
     "execution_count": 62,
     "metadata": {},
     "output_type": "execute_result"
    }
   ],
   "source": [
    "def obtenerPoblacion(nombre_pais):\n",
    "    ret=Datos_banco_mundial.get(nombre_pais)\n",
    "    if ret!=None:\n",
    "        print(f\"La población del país {nombre_pais} es {ret}\")\n",
    "    else:\n",
    "        print(f\"No hay datos para el pais {nombre_pais}\")\n",
    "    return True\n",
    "obtenerPoblacion(\"Albania\")\n",
    "obtenerPoblacion(\"Rumania\")"
   ]
  },
  {
   "cell_type": "markdown",
   "id": "5f1b4e34",
   "metadata": {},
   "source": [
    "3.1.4 Cree su propio diccionario en Python. El diccionario se llamará usuarios. Los key corresponderán al nombre de usuario (por ejemplo pperez), el valor asociado a los key corresponderá al nombre de la persona (por ejemplo Pedro Perez). El diccionario deberá contener al menos 5 pares de key:values. Al finalizar muestre el diccionario mediante un print."
   ]
  },
  {
   "cell_type": "code",
   "execution_count": 63,
   "id": "739d3a35",
   "metadata": {},
   "outputs": [
    {
     "name": "stdout",
     "output_type": "stream",
     "text": [
      "{'jlmunoz': 'Jorge Munoz', 'omnunoza': 'Oscar Munoz', 'jalvame': 'Jose Alvarado', 'osamesa': 'Osvaldo Mendez', 'kramos': 'Karla Ramos'}\n"
     ]
    }
   ],
   "source": [
    "usuarios={\"jlmunoz\":\"Jorge Munoz\",\"omnunoza\":\"Oscar Munoz\",\"jalvame\":\"Jose Alvarado\",\"osamesa\":\"Osvaldo Mendez\",\"kramos\":\"Karla Ramos\"}\n",
    "print(usuarios)"
   ]
  },
  {
   "cell_type": "markdown",
   "id": "ebcf6e21",
   "metadata": {},
   "source": [
    "Utilizando como base el nuevo diccionario Datos_banco_mundial"
   ]
  },
  {
   "cell_type": "code",
   "execution_count": 64,
   "id": "49b56477",
   "metadata": {},
   "outputs": [],
   "source": [
    "Datos_banco_mundial={\"Afganistan\":[34413603.0,578.5,1.5],\n",
    "                     \"Albania\":[2880703.0,3952.5,2.2],\n",
    "                     \"Argelia\":[39728025.0,4187.5,3.7],\n",
    "                     \"Andorra\":[78011.0,35762.5,1.4],\n",
    "                     \"Angola\":[27884381.0,4167.0,0.9],\n",
    "                     \"Antigua y Barbuda\":[93566.0,14286.1,3.8],\n",
    "                     \"Argentina\":[43131966.0,13789,1,2.7]}"
   ]
  },
  {
   "cell_type": "code",
   "execution_count": 65,
   "id": "bc96669a",
   "metadata": {},
   "outputs": [
    {
     "name": "stdout",
     "output_type": "stream",
     "text": [
      "{'Afganistan': [34413603.0, 578.5, 1.5], 'Albania': [2880703.0, 3952.5, 2.2], 'Argelia': [39728025.0, 4187.5, 3.7], 'Andorra': [78011.0, 35762.5, 1.4], 'Angola': [27884381.0, 4167.0, 0.9], 'Antigua y Barbuda': [93566.0, 14286.1, 3.8], 'Argentina': [43131966.0, 13789, 1, 2.7]}\n"
     ]
    }
   ],
   "source": [
    "print(Datos_banco_mundial)"
   ]
  },
  {
   "cell_type": "markdown",
   "id": "07de3a81",
   "metadata": {},
   "source": [
    "3.2.1 Encapsule en una variable el crecimiento de Argentina. Luego muestre la siguiente leyenda:\n",
    "“El crecimiento de Argentina es X”, donde x es el crecimiento de dicho país.\n"
   ]
  },
  {
   "cell_type": "code",
   "execution_count": 66,
   "id": "947db211",
   "metadata": {},
   "outputs": [
    {
     "name": "stdout",
     "output_type": "stream",
     "text": [
      "El crecimiento de Argentina es:2.7\n"
     ]
    }
   ],
   "source": [
    "out=Datos_banco_mundial.get(\"Argentina\")[3]\n",
    "print(f\"El crecimiento de Argentina es:{out}\")"
   ]
  },
  {
   "cell_type": "markdown",
   "id": "de3ed933",
   "metadata": {},
   "source": [
    "3.2.2 Cree una función llamada sumaPoblacion(Datos_banco_mundial). La función recibirá como parámetro al diccionario Datos_banco_mundial e irá sumando las poblaciones de los países que el usuario vaya indicando.. La función deberá preguntar al usuario el país por la población a sumar. El usuario debe ingresar el nombre del país. Si el país está en el diccionario, esta suma debe irse guardando en una variable suma_poblacion_total. Si el país no está en el diccionario, la función debe capturar esta excepción. La función debe preguntar al usuario si desea continuar con otro país, si el usuario responde Si, se debe repetir todo el proceso, si el usuario responde No, se debe mostrar la siguiente leyenda “La suma de todas las poblaciones indicadas es suma_poblacion_total”"
   ]
  },
  {
   "cell_type": "code",
   "execution_count": 67,
   "id": "d209b1f3",
   "metadata": {},
   "outputs": [
    {
     "name": "stdout",
     "output_type": "stream",
     "text": [
      "Digite nombre del pais: Andorra\n",
      "Desea continuar con otro pais S/N: s\n",
      "Digite nombre del pais: Argelia\n",
      "Desea continuar con otro pais S/N: s\n",
      "Digite nombre del pais: Argentina\n",
      "Desea continuar con otro pais S/N: n\n",
      "La suma de todas las poblaciones indicadas es suma_poblacion_total es :82938002.0\n"
     ]
    }
   ],
   "source": [
    "def sumaPoblacion(Datos_banco_mundial):\n",
    "    poblacion=0\n",
    "    opt=True\n",
    "    while opt==True:\n",
    "        try:\n",
    "            pais=str(input(\"Digite nombre del pais: \"))\n",
    "            out=Datos_banco_mundial.get(pais)[0]\n",
    "            if out!=None:\n",
    "                poblacion=poblacion+out\n",
    "            else:\n",
    "                print(f\"Pais no existe en el diccionario\")\n",
    "            opcion=str(input(\"Desea continuar con otro pais S/N: \"))\n",
    "            opcion=opcion.lower()\n",
    "            if opcion=='s':\n",
    "                opt=True\n",
    "            else:\n",
    "                opt=False\n",
    "        except Exception as err:\n",
    "            print(\"Pais no existe en el diccionario\")\n",
    "    return poblacion\n",
    "print(f\"La suma de todas las poblaciones indicadas es suma_poblacion_total es :{sumaPoblacion(Datos_banco_mundial)}\")"
   ]
  },
  {
   "cell_type": "markdown",
   "id": "2293294c",
   "metadata": {},
   "source": [
    "Utilizando como base el diccionario productos_y_precios, el cual se define a continuación:"
   ]
  },
  {
   "cell_type": "code",
   "execution_count": 68,
   "id": "9160192f",
   "metadata": {},
   "outputs": [],
   "source": [
    "productos_y_precios = { \"manzana\": 2.5, \"banano\": 1.8, \"naranja\": 3.0, \"uva\": 4.2}"
   ]
  },
  {
   "cell_type": "markdown",
   "id": "ba090850",
   "metadata": {},
   "source": [
    "3.3.1 Escriba una función que le solicite al usuario ingresar un producto. La función deberá buscar el producto en el diccionario de productos_y_precios. Si el producto está en el diccionario, debe imprimir “El producto X está disponible en el inventario su precio es Y”. Si el producto no está en el diccionario debe imprimir “El producto X no está disponible en el inventario”."
   ]
  },
  {
   "cell_type": "code",
   "execution_count": 69,
   "id": "55435147",
   "metadata": {},
   "outputs": [],
   "source": [
    "def buscarproducto(producto):\n",
    "    precio=0\n",
    "    if producto in productos_y_precios:\n",
    "        precio=productos_y_precios.get(producto)\n",
    "        print(f\"El producto {producto} está disponible en el inventario y su precio es {precio}\")\n",
    "    else:\n",
    "        print(f\"El producto {producto} no está disponible en el inventario\")\n",
    "    return True\n"
   ]
  },
  {
   "cell_type": "code",
   "execution_count": 70,
   "id": "65f5a335",
   "metadata": {},
   "outputs": [
    {
     "name": "stdout",
     "output_type": "stream",
     "text": [
      "El producto manzana está disponible en el inventario y su precio es 2.5\n"
     ]
    },
    {
     "data": {
      "text/plain": [
       "True"
      ]
     },
     "execution_count": 70,
     "metadata": {},
     "output_type": "execute_result"
    }
   ],
   "source": [
    "buscarproducto(\"manzana\")"
   ]
  },
  {
   "cell_type": "code",
   "execution_count": 71,
   "id": "805bf3f5",
   "metadata": {},
   "outputs": [
    {
     "name": "stdout",
     "output_type": "stream",
     "text": [
      "El producto peras no está disponible en el inventario\n"
     ]
    },
    {
     "data": {
      "text/plain": [
       "True"
      ]
     },
     "execution_count": 71,
     "metadata": {},
     "output_type": "execute_result"
    }
   ],
   "source": [
    "buscarproducto(\"peras\")"
   ]
  },
  {
   "cell_type": "markdown",
   "id": "616ff2d1",
   "metadata": {},
   "source": [
    "3.3.2 Utilizando como base el nuevo diccionario Datos_banco_mundial verifique si el valor 1.5 está disponible en el diccionario. ¿Qué sucedió y por qué?"
   ]
  },
  {
   "cell_type": "code",
   "execution_count": 72,
   "id": "0ab4815c",
   "metadata": {},
   "outputs": [
    {
     "name": "stdout",
     "output_type": "stream",
     "text": [
      "El valor existe\n"
     ]
    }
   ],
   "source": [
    "##El valor existe solo que debe ser buscado dentro de la lista de valores del diccionario \n",
    "for x in Datos_banco_mundial.values():\n",
    "    if x[2]==1.5:\n",
    "        print(\"El valor existe\")\n",
    "        break"
   ]
  },
  {
   "cell_type": "markdown",
   "id": "c7ea2bd7",
   "metadata": {},
   "source": [
    "3.3.3 Utilizando como base el nuevo diccionario Datos_banco_mundial verifique si el valor  [34413603.0, 578.5, 1.5] está disponible en el diccionario. ¿Qué sucedió y por qué?"
   ]
  },
  {
   "cell_type": "code",
   "execution_count": 73,
   "id": "ffb3180e",
   "metadata": {},
   "outputs": [
    {
     "name": "stdout",
     "output_type": "stream",
     "text": [
      "True\n"
     ]
    }
   ],
   "source": [
    "#El valor existe,buscando la lista como tal\n",
    "x= [34413603.0, 578.5, 1.5] \n",
    "print ( x in Datos_banco_mundial.values())"
   ]
  },
  {
   "cell_type": "markdown",
   "id": "7899d029",
   "metadata": {},
   "source": [
    "3.4.1 Modifique la función 3.2.2 pero ahora utilizando .get ( ) \n",
    "Cree una función llamada sumaPoblacion2(Datos_banco_mundial). La función recibirá como parámetro al diccionario Datos_banco_mundial e irá sumando las poblaciones de los países que el usuario vaya indicando. La función deberá preguntar al usuario el país por la población a sumar. El usuario debe ingresar el nombre del país. Si el país está en el diccionario, esta suma debe irse guardando en una variable suma_poblacion_total. Si el país no está en el diccionario, la función debe capturar esta excepción. La función debe preguntar al usuario si desea continuar con otro país, si el usuario responde Si, se debe repetir todo el proceso, si el usuario responde No, se debe mostrar la siguiente leyenda “La suma de todas las poblaciones indicadas es suma_poblacion_total”\n",
    "\n",
    "Tip: usar ciclo while, manejo de excepciones, input(), get()\n"
   ]
  },
  {
   "cell_type": "code",
   "execution_count": 74,
   "id": "0acd433a",
   "metadata": {},
   "outputs": [
    {
     "name": "stdout",
     "output_type": "stream",
     "text": [
      "Digite nombre del pais: Argelia\n",
      "Desea continuar con otro pais S/N: s\n",
      "Digite nombre del pais: Andorra\n",
      "Desea continuar con otro pais S/N: \n",
      "La suma de todas las poblaciones indicadas es suma_poblacion_total es :39806036.0\n"
     ]
    }
   ],
   "source": [
    "def sumaPoblacion2(Datos_banco_mundial):\n",
    "    poblacion=0\n",
    "    opt=True\n",
    "    while opt==True:\n",
    "        try:\n",
    "            pais=str(input(\"Digite nombre del pais: \"))\n",
    "            out=Datos_banco_mundial.get(pais)[0]\n",
    "            if out!=None:\n",
    "                poblacion=poblacion+out\n",
    "            else:\n",
    "                print(f\"Pais no existe en el diccionario\")\n",
    "            opcion=str(input(\"Desea continuar con otro pais S/N: \"))\n",
    "            opcion=opcion.lower()\n",
    "            if opcion=='s':\n",
    "                opt=True\n",
    "            else:\n",
    "                opt=False\n",
    "        except Exception as err:\n",
    "            print(\"Pais no existe en el diccionario\")\n",
    "    return poblacion\n",
    "print(f\"La suma de todas las poblaciones indicadas es suma_poblacion_total es :{sumaPoblacion2(Datos_banco_mundial)}\")"
   ]
  },
  {
   "cell_type": "markdown",
   "id": "3e869a4c",
   "metadata": {},
   "source": [
    "3.5.1. Crea un diccionario vacío llamado \"agenda\". Luego, utiliza el método update() para agregar los siguientes contactos: \"Juan\" con el número de teléfono \"1234567890\" y \"María\" con el número \"9876543210\"."
   ]
  },
  {
   "cell_type": "code",
   "execution_count": 75,
   "id": "a20c3b10",
   "metadata": {},
   "outputs": [
    {
     "name": "stdout",
     "output_type": "stream",
     "text": [
      "{'Juan': '1234567890', 'Maria': '9876543210'}\n"
     ]
    }
   ],
   "source": [
    "agenda=dict()\n",
    "agenda.update({\"Juan\":\"1234567890\"})\n",
    "agenda.update({\"Maria\":\"9876543210\"})\n",
    "print(agenda)"
   ]
  },
  {
   "cell_type": "markdown",
   "id": "c5879e32",
   "metadata": {},
   "source": [
    "3.5.2. Dado el diccionario de contactos del ejercicio anterior, utiliza el método get() para obtener el número de teléfono de \"Juan\". Si no existe, muestra un mensaje de que el contacto no está en la agenda."
   ]
  },
  {
   "cell_type": "code",
   "execution_count": 76,
   "id": "38d357fb",
   "metadata": {},
   "outputs": [
    {
     "name": "stdout",
     "output_type": "stream",
     "text": [
      "El contacto no esta en la agenda\n"
     ]
    }
   ],
   "source": [
    "x=agenda.get(\"Juans\") \n",
    "if x is None:\n",
    "    print(\"El contacto no esta en la agenda\")\n",
    "else:\n",
    "    print(x)"
   ]
  },
  {
   "cell_type": "code",
   "execution_count": 77,
   "id": "d322cc0c",
   "metadata": {},
   "outputs": [
    {
     "name": "stdout",
     "output_type": "stream",
     "text": [
      "1234567890\n"
     ]
    }
   ],
   "source": [
    "x=agenda.get(\"Juan\") \n",
    "if x is None:\n",
    "    print(\"El contacto no esta en la agenda\")\n",
    "else:\n",
    "    print(x)"
   ]
  },
  {
   "cell_type": "markdown",
   "id": "47e7aeaf",
   "metadata": {},
   "source": [
    "3.5.3. Elimina el contacto \"María\" y su número de teléfono de la agenda utilizando el método del()."
   ]
  },
  {
   "cell_type": "code",
   "execution_count": 78,
   "id": "0f3c0998",
   "metadata": {},
   "outputs": [
    {
     "name": "stdout",
     "output_type": "stream",
     "text": [
      "{'Juan': '1234567890', 'Maria': '9876543210'}\n",
      "{'Juan': '1234567890'}\n"
     ]
    }
   ],
   "source": [
    "print(agenda)\n",
    "agenda.pop(\"Maria\")\n",
    "print(agenda)"
   ]
  },
  {
   "cell_type": "markdown",
   "id": "15e7f54c",
   "metadata": {},
   "source": [
    "3.5.4. Crea un diccionario llamado \"inventario\" con diferentes productos y sus cantidades disponibles. Utiliza el método popitem() para eliminar y mostrar el último de los elementos del diccionario."
   ]
  },
  {
   "cell_type": "code",
   "execution_count": 79,
   "id": "45a1a878",
   "metadata": {},
   "outputs": [
    {
     "name": "stdout",
     "output_type": "stream",
     "text": [
      "{'Jabon': [1235.1, 100, 'Palmolive'], 'Shampoo': [7845.0, 30, 'Cometa'], 'Rinse': [9874, 30, 'Palmolive'], 'Lápiz': [180, 2000, 'Lapices Resistentes'], 'Cafe': [2300, 200, 'Cafecito']}\n",
      "{'Jabon': [1235.1, 100, 'Palmolive'], 'Shampoo': [7845.0, 30, 'Cometa'], 'Rinse': [9874, 30, 'Palmolive'], 'Lápiz': [180, 2000, 'Lapices Resistentes']}\n"
     ]
    }
   ],
   "source": [
    "inventario=dict()\n",
    "inventario={\n",
    "\"Jabon\":[1235.10,100,\"Palmolive\"],\n",
    "\"Shampoo\":[7845.0,30,\"Cometa\"],\n",
    "\"Rinse\":[9874,30,\"Palmolive\"],\n",
    "\"Lápiz\":[180,2000,\"Lapices Resistentes\"],\n",
    "\"Cafe\":[2300,200,\"Cafecito\"]\n",
    "}\n",
    "print(inventario)\n",
    "inventario.popitem()\n",
    "print(inventario)"
   ]
  },
  {
   "cell_type": "markdown",
   "id": "408393d3",
   "metadata": {},
   "source": [
    "3.5.5. Utiliza el método pop() para eliminar el producto \"Lápiz\" del diccionario de inventario y obtener su cantidad disponible. Si el producto no está en el diccionario, muestra un mensaje indicando que no se encuentra en el diccionario."
   ]
  },
  {
   "cell_type": "code",
   "execution_count": 80,
   "id": "a27611be",
   "metadata": {},
   "outputs": [
    {
     "name": "stdout",
     "output_type": "stream",
     "text": [
      "{'Jabon': [1235.1, 100, 'Palmolive'], 'Shampoo': [7845.0, 30, 'Cometa'], 'Rinse': [9874, 30, 'Palmolive']}\n"
     ]
    }
   ],
   "source": [
    "inventario.pop(\"Lápiz\")\n",
    "print(inventario)"
   ]
  },
  {
   "cell_type": "markdown",
   "id": "8132ae2e",
   "metadata": {},
   "source": [
    "3.5.6. Crea un diccionario llamado \"calificaciones\" con nombres de estudiantes como claves y sus calificaciones como valores. Utiliza el método clear() para eliminar todas las entradas del diccionario."
   ]
  },
  {
   "cell_type": "code",
   "execution_count": 81,
   "id": "c0858dca",
   "metadata": {},
   "outputs": [
    {
     "name": "stdout",
     "output_type": "stream",
     "text": [
      "{'Jorge': 75, 'Rene': 90, 'Roberto': 100}\n",
      "{}\n"
     ]
    }
   ],
   "source": [
    "calificaciones=dict()\n",
    "calificaciones={\"Jorge\":75,\"Rene\":90,\"Roberto\":100}\n",
    "print(calificaciones)\n",
    "calificaciones.clear()\n",
    "print(calificaciones)"
   ]
  },
  {
   "cell_type": "markdown",
   "id": "044a63f3",
   "metadata": {},
   "source": [
    "3.5.7. Dado el diccionario de calificaciones del ejercicio anterior, utiliza el método items() para mostrar todos los nombres de los estudiantes y sus calificaciones en un formato legible."
   ]
  },
  {
   "cell_type": "code",
   "execution_count": 82,
   "id": "d418e60a",
   "metadata": {},
   "outputs": [
    {
     "name": "stdout",
     "output_type": "stream",
     "text": [
      "Nombre    Materia        Nota\n",
      "--------  -----------  ------\n",
      "Jorge     Estadistica      75\n",
      "Rene      Estadistica      90\n",
      "Roberto   Estadistica     100\n"
     ]
    }
   ],
   "source": [
    "from tabulate import tabulate\n",
    "calificaciones=dict()\n",
    "calificaciones={\"Jorge\":[\"Estadistica\",75],\"Rene\":[\"Estadistica\",90],\"Roberto\":[\"Estadistica\",100]}\n",
    "\n",
    "lst_calificaciones=[]\n",
    "for nombre,datos in calificaciones.items():\n",
    "    materia =datos[0]\n",
    "    nota=datos[1]\n",
    "    lst_calificaciones.append([nombre,materia,nota])        \n",
    "print(tabulate(lst_calificaciones, headers=[\"Nombre\",\"Materia\",\"Nota\"]))"
   ]
  },
  {
   "cell_type": "markdown",
   "id": "90191a1b",
   "metadata": {},
   "source": [
    "3.5.8. Escribe un programa que solicite al usuario ingresar una palabra. Luego, utiliza el método setdefault() para agregar esa palabra como clave a un diccionario y establecer su valor como 0. Si la palabra ya existe en el diccionario, incrementa su valor en 1."
   ]
  },
  {
   "cell_type": "code",
   "execution_count": 83,
   "id": "085feb7b",
   "metadata": {},
   "outputs": [
    {
     "data": {
      "text/plain": [
       "0"
      ]
     },
     "execution_count": 83,
     "metadata": {},
     "output_type": "execute_result"
    }
   ],
   "source": [
    "dic=dict()\n",
    "dic.setdefault('Jorge',0)"
   ]
  },
  {
   "cell_type": "code",
   "execution_count": 93,
   "id": "33c2e699",
   "metadata": {},
   "outputs": [
    {
     "name": "stdout",
     "output_type": "stream",
     "text": [
      "Ingrese el nombre de un integrante: Tatiana\n",
      "Tatiana\n",
      "{'Jorge': 2, 'Oscar': 1, 'Rne': 1, 'JOrge': 0, 'Tatiana': 0}\n"
     ]
    }
   ],
   "source": [
    "persona=(str(input(\"Ingrese el nombre de un integrante: \")))\n",
    "print(persona)\n",
    "if dic.get(persona) is None:\n",
    "    dic.setdefault(persona,0)\n",
    "else:\n",
    "    valor=dic[persona]\n",
    "    valor=valor+1\n",
    "    dic.update({persona:valor})\n",
    "print(dic)"
   ]
  },
  {
   "cell_type": "markdown",
   "id": "aaf48904",
   "metadata": {},
   "source": [
    "3.5.9. Crea un diccionario llamado \"frutas\" con diferentes frutas como claves y sus precios como valores. Utiliza el método keys() para mostrar todas las frutas disponibles."
   ]
  },
  {
   "cell_type": "code",
   "execution_count": 94,
   "id": "8fc74d94",
   "metadata": {},
   "outputs": [
    {
     "name": "stdout",
     "output_type": "stream",
     "text": [
      "{'Peras': 100, 'Manzanas': 300, 'Uvas': 500, 'Bananos': 50}\n",
      "Peras\n",
      "Manzanas\n",
      "Uvas\n",
      "Bananos\n"
     ]
    }
   ],
   "source": [
    "frutas={\n",
    "    \"Peras\":100,\n",
    "    \"Manzanas\":300,\n",
    "    \"Uvas\":500,\n",
    "    \"Bananos\":50\n",
    "    \n",
    "}\n",
    "print(frutas)\n",
    "for k in frutas.keys():\n",
    "    print(k)"
   ]
  },
  {
   "cell_type": "markdown",
   "id": "dc995101",
   "metadata": {},
   "source": [
    "3.5.10. Dado el diccionario de frutas del ejercicio anterior, utiliza el método values() para mostrar todos los precios de las frutas en un formato legible."
   ]
  },
  {
   "cell_type": "code",
   "execution_count": 95,
   "id": "e8e59a1e",
   "metadata": {},
   "outputs": [
    {
     "name": "stdout",
     "output_type": "stream",
     "text": [
      "¢100\n",
      "¢300\n",
      "¢500\n",
      "¢50\n"
     ]
    }
   ],
   "source": [
    "for v in frutas.values():\n",
    "    print(f\"¢{v}\")"
   ]
  },
  {
   "cell_type": "code",
   "execution_count": null,
   "id": "4976a3ca",
   "metadata": {},
   "outputs": [],
   "source": []
  }
 ],
 "metadata": {
  "kernelspec": {
   "display_name": "Python 3",
   "language": "python",
   "name": "python3"
  },
  "language_info": {
   "codemirror_mode": {
    "name": "ipython",
    "version": 3
   },
   "file_extension": ".py",
   "mimetype": "text/x-python",
   "name": "python",
   "nbconvert_exporter": "python",
   "pygments_lexer": "ipython3",
   "version": "3.7.10"
  }
 },
 "nbformat": 4,
 "nbformat_minor": 5
}
